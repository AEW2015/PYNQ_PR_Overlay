{
 "cells": [
  {
   "cell_type": "markdown",
   "metadata": {},
   "source": [
    "#### Don't forget to delete the hdmi_out and hdmi_in when finished"
   ]
  },
  {
   "cell_type": "markdown",
   "metadata": {},
   "source": [
    "# Image Overlay 256 Color Filter Example\n",
    "\n",
    "In this notebook, we will overlay an image on the output videofeed. By default, an image showing the BYU logo will be displayed at the top of the screen.\n",
    "\n",
    "In order to store larger images, a 256 color pallette is used so that each pixel color can be represented as 8 bits instead of the 24 bits used to represent the RGB values in the HDMI standard. The filter maps an 8-bit index to its corresponding 24-bit RGB color. The 256 colors used by this filter use the same mapping as xterm colors, which can be found at the following link: <a href = \"http://www.calmar.ws/vim/256-xterm-24bit-rgb-color-chart.html\">256 Color Chart</a>\n",
    "\n",
    "This filter also allows the user to specify a \"transparent\" color. By specifying the index to represent transparency, it will replace all pixels that use the specified color index with the background video pixels."
   ]
  },
  {
   "cell_type": "markdown",
   "metadata": {},
   "source": [
    "#### 1. Download base overlay to the board\n",
    "Ensure that the camera is not connected to the board. Run the following script to provide the PYNQ with its base overlay."
   ]
  },
  {
   "cell_type": "code",
   "execution_count": 1,
   "metadata": {
    "collapsed": true
   },
   "outputs": [],
   "source": [
    "from pynq.drivers.video import HDMI\n",
    "from pynq import Bitstream_Part\n",
    "from pynq.board import Register\n",
    "from pynq import Overlay\n",
    "\n",
    "Overlay(\"demo.bit\").download()"
   ]
  },
  {
   "cell_type": "markdown",
   "metadata": {},
   "source": [
    "#### 2. Connect camera\n",
    "Physically connect the camera to the HDMI-in port of the PYNQ. Run the following code to instruct the PYNQ to capture the video from the camera and to begin streaming video to your monitor (connected to the HDMI-out port). The \"2\" represents a resolution of 1280x720, which is the output streaming resolution of the camera."
   ]
  },
  {
   "cell_type": "code",
   "execution_count": 2,
   "metadata": {
    "collapsed": false
   },
   "outputs": [],
   "source": [
    "hdmi_in = HDMI('in')\n",
    "hdmi_out = HDMI('out', frame_list=hdmi_in.frame_list)\n",
    "hdmi_out.mode(2)\n",
    "hdmi_out.start()\n",
    "hdmi_in.start()"
   ]
  },
  {
   "cell_type": "markdown",
   "metadata": {},
   "source": [
    "#### 3. Program board with 256 Color Image Overlay Filter\n",
    "Run the following script to download the 256 color image overlay filter to the PYNQ. This will allow us to add image overlays on top of the video feed."
   ]
  },
  {
   "cell_type": "code",
   "execution_count": 3,
   "metadata": {
    "collapsed": true
   },
   "outputs": [],
   "source": [
    "Bitstream_Part(\"img_overlay_256color_p.bit\").download()"
   ]
  },
  {
   "cell_type": "markdown",
   "metadata": {},
   "source": [
    "#### 4. Create a user interface\n",
    "We will communicate with the filter using a nice user interface. Run the following code to activate that interface.\n",
    "\n",
    "6 Registers are used to interact with this particular filter.\n",
    "R0 : Origin X-Coordinate. The origin of the image is the top left corner. Writing to R0 allows you to specify where the image appears horizontally on the feed.\n",
    "R1 : Origin Y-Coordinate. Writing to R1 allows you to specify where the image appears vertically on the feed.\n",
    "R2 : Width. This specifies how wide (in pixels) the image is.\n",
    "R3 : Height. This specifies how tall (in pixels) the image is.\n",
    "R4 : This specifies the index of the color that should be made transparent. Any pixels with that color index will be made transparent.\n",
    "R5 : This is used to write a new image to the filter. The 16-bit pixel address and 8-bit pixel color index are concatenated and written to this register. The color index will then be written to the BRAMs at the pixel address.\n",
    "\n",
    "The current minimum and maximum values for the X- and Y-Coordinates as well as image width and height are based on a 1280x720 screen resolution."
   ]
  },
  {
   "cell_type": "code",
   "execution_count": 7,
   "metadata": {
    "collapsed": false
   },
   "outputs": [
    {
     "data": {
      "text/html": [
       "<style>\n",
       "    .widget-label { min-width: 25ex !important; }\n",
       "</style>"
      ],
      "text/plain": [
       "<IPython.core.display.HTML object>"
      ]
     },
     "metadata": {},
     "output_type": "display_data"
    }
   ],
   "source": [
    "import ipywidgets as widgets\n",
    "\n",
    "from IPython.display import HTML, display\n",
    "\n",
    "display(HTML('''<style>\n",
    "    .widget-label { min-width: 25ex !important; }\n",
    "</style>'''))\n",
    "\n",
    "R0 =Register(0)\n",
    "R1 =Register(1)\n",
    "R2 =Register(2)\n",
    "R3 =Register(3)\n",
    "R4 =Register(4)\n",
    "R5 =Register(5)\n",
    "\n",
    "R0.write(1)\n",
    "R1.write(1)\n",
    "R2.write(200)\n",
    "R3.write(200)\n",
    "R4.write(0)\n",
    "\n",
    "R0_s = widgets.IntSlider(\n",
    "    value=1,\n",
    "    min=1,\n",
    "    max=1279,\n",
    "    step=1,\n",
    "    description='X Origin:',\n",
    "    disabled=False,\n",
    "    continuous_update=True,\n",
    "    orientation='vertical',\n",
    "    readout=True,\n",
    "    readout_format='i',\n",
    "    slider_color='red',\n",
    "    width = '150px'\n",
    ")\n",
    "R1_s = widgets.IntSlider(\n",
    "    value=1,\n",
    "    min=1,\n",
    "    max=719,\n",
    "    step=1,\n",
    "    description='Y Origin:',\n",
    "    disabled=False,\n",
    "    continuous_update=True,\n",
    "    orientation='vertical',\n",
    "    readout=True,\n",
    "    readout_format='i',\n",
    "    slider_color='green',\n",
    "    width = '150px'\n",
    ")\n",
    "R2_b = widgets.BoundedIntText(\n",
    "    value=200,\n",
    "    min=1,\n",
    "    max=1280,\n",
    "    step=1,\n",
    "    description='Image Width:',\n",
    "    disabled=True\n",
    ")\n",
    "R3_b = widgets.BoundedIntText(\n",
    "    value=200,\n",
    "    min=1,\n",
    "    max=720,\n",
    "    step=1,\n",
    "    description='Image Height:',\n",
    "    disabled=True\n",
    ")\n",
    "R4_b = widgets.BoundedIntText(\n",
    "    value=0,\n",
    "    min=0,\n",
    "    max=255,\n",
    "    step=1,\n",
    "    description='Transparent Color Index:',\n",
    "    disabled=False,\n",
    "    width = '225px'\n",
    ")\n",
    "R5_s = widgets.Select(\n",
    "    options=['BYU Medallion', 'BYU Cougar', 'BYU Logo'],\n",
    "     value='BYU Medallion',\n",
    "    description='Display Image:',\n",
    "    disabled=False,\n",
    "    width = '400px'\n",
    ")\n",
    "\n",
    "def update_r0(*args):\n",
    "    R0.write(R0_s.value)\n",
    "R0_s.observe(update_r0, 'value')\n",
    "def update_r1(*args):\n",
    "    R1.write(R1_s.value)\n",
    "R1_s.observe(update_r1, 'value')\n",
    "def update_r2(*args):\n",
    "    R2.write(R2_b.value)\n",
    "R2_b.observe(update_r2, 'value')\n",
    "def update_r3(*args):\n",
    "    R3.write(R3_b.value)\n",
    "R3_b.observe(update_r3, 'value')\n",
    "def update_r4(*args):\n",
    "    R4.write(R4_b.value)\n",
    "R4_b.observe(update_r4, 'value')\n",
    "def update_r5(*args):\n",
    "    #print(\"Hello\")\n",
    "    filename = \"nofile.bin\"\n",
    "    if R5_s.value == 'BYU Medallion':\n",
    "        filename = \"./data/medallion_256.bin\"\n",
    "    elif R5_s.value == 'BYU Cougar':\n",
    "        filename = \"./data/cougar_256.bin\"\n",
    "    elif R5_s.value == 'BYU Logo':\n",
    "        filename = \"./data/BYU_Stretch_Y.bin\"\n",
    "    with open(filename, \"rb\") as f:\n",
    "        width = f.read(1)\n",
    "        height = f.read(1)\n",
    "        R2.write(width[0])\n",
    "        R3.write(height[0])\n",
    "        num_pixels = width[0]*height[0]-1\n",
    "        for i in range(0, num_pixels):\n",
    "            byte = f.read(1)\n",
    "            x = (i<<8) | byte[0];\n",
    "            R5.write(x);\n",
    "R5_s.observe(update_r5, 'value')\n",
    "widgets.HBox([R0_s,R1_s,R4_b,R5_s])\n"
   ]
  },
  {
   "cell_type": "markdown",
   "metadata": {},
   "source": [
    "#### 5. Exploration\n",
    "\n",
    "1. Image Position.\n",
    "Try moving the sliders up and down. Moving the X Origin slider up should move the image to the right. Moving the Y Origin slider up should move the image down.\n",
    "\n",
    "2. Transparency.\n",
    "Try entering the value '15' in the 'Transparent Color Index' box. Notice that the white pixels in the image have become transparent. Now try entering the value '17' in the box. Notice that the blue pixels in the image have become transparent. Now enter the value '0' so that the black pixels will be transparent for the next steps.\n",
    "\n",
    "3. Upload New Image.\n",
    "Try selecting a different image. The new image file should be written to replace the previous image."
   ]
  },
  {
   "cell_type": "markdown",
   "metadata": {},
   "source": [
    "#### 6. Clean up\n",
    "When you are done experimenting with the image overlay filter, run the following code before exiting."
   ]
  },
  {
   "cell_type": "code",
   "execution_count": 28,
   "metadata": {
    "collapsed": false
   },
   "outputs": [],
   "source": [
    "hdmi_out.stop()\n",
    "hdmi_in.stop()\n",
    "del hdmi_out\n",
    "del hdmi_in"
   ]
  },
  {
   "cell_type": "code",
   "execution_count": null,
   "metadata": {
    "collapsed": true
   },
   "outputs": [],
   "source": []
  }
 ],
 "metadata": {
  "kernelspec": {
   "display_name": "Python 3",
   "language": "python",
   "name": "python3"
  },
  "language_info": {
   "codemirror_mode": {
    "name": "ipython",
    "version": 3
   },
   "file_extension": ".py",
   "mimetype": "text/x-python",
   "name": "python",
   "nbconvert_exporter": "python",
   "pygments_lexer": "ipython3",
   "version": "3.4.3+"
  }
 },
 "nbformat": 4,
 "nbformat_minor": 1
}
