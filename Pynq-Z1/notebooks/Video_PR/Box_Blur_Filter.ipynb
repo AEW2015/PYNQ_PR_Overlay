{
 "cells": [
  {
   "cell_type": "markdown",
   "metadata": {},
   "source": [
    "#### Don't forget to delete the hdmi_out and hdmi_in when finished"
   ]
  },
  {
   "cell_type": "markdown",
   "metadata": {},
   "source": [
    "# Box Blur Filter Example\n",
    "In this notebook, we will demonstrate how to use the box blur filter. We take advantage of the Pynq’s ability to buffer HDMI signals in order to perform a filter. The box blur filter is relatively simple. As shown in the image below, the value of each pixel outputted is the average of the pixel in the center and the surrounding pixels. \n",
    "\n",
    "<img src=\"data/boxBlur.png\"/>\n",
    "*This diagram shows how the blur algorithm functions.*\n",
    "\n",
    "In order to perform this function, we need access to three rows worth of pixel data. We achieve this by stalling the HDMI signal for two rows while buffering the RGB values of the pixels. Once all the need RGB values are buffered the algorithm is performed and the HDMI output signals are sent."
   ]
  },
  {
   "cell_type": "markdown",
   "metadata": {},
   "source": [
    "#### 1. Download base overlay to the board\n",
    "Ensure that the camera is not connected to the board. Run the following script to provide the PYNQ with its base overlay."
   ]
  },
  {
   "cell_type": "code",
   "execution_count": 1,
   "metadata": {
    "collapsed": false,
    "scrolled": true
   },
   "outputs": [],
   "source": [
    "from pynq.drivers.video import HDMI\n",
    "from pynq import Bitstream_Part\n",
    "from pynq.board import Register\n",
    "from pynq import Overlay\n",
    "\n",
    "Overlay(\"demo.bit\").download()"
   ]
  },
  {
   "cell_type": "markdown",
   "metadata": {},
   "source": [
    "#### 2. Connect camera\n",
    "Physically connect the camera to the HDMI-in port of the PYNQ. Run the following code to instruct the PYNQ to capture the video from the camera and to begin streaming video to your monitor (connected to the HDMI-out port)."
   ]
  },
  {
   "cell_type": "code",
   "execution_count": 2,
   "metadata": {
    "collapsed": false
   },
   "outputs": [],
   "source": [
    "hdmi_in = HDMI('in')\n",
    "hdmi_out = HDMI('out', frame_list=hdmi_in.frame_list)\n",
    "hdmi_out.mode(3)\n",
    "hdmi_out.start()\n",
    "hdmi_in.start()"
   ]
  },
  {
   "cell_type": "markdown",
   "metadata": {},
   "source": [
    "#### 3. Program board\n",
    "Run the following script to download the Box Blur Filter to the PYNQ. This applies the bluring filter to the video stream."
   ]
  },
  {
   "cell_type": "code",
   "execution_count": 3,
   "metadata": {
    "collapsed": false
   },
   "outputs": [],
   "source": [
    "Bitstream_Part(\"box_blur_p.bit\").download()"
   ]
  },
  {
   "cell_type": "code",
   "execution_count": null,
   "metadata": {
    "collapsed": false
   },
   "outputs": [],
   "source": [
    "import ipywidgets as widgets\n",
    "from ipywidgets import Button, HBox, VBox, Label\n",
    "\n",
    "words = ['HDMI Reset']\n",
    "items = [Button(description=w) for w in words]\n",
    "\n",
    "\n",
    "def on_hdmi_clicked(b):\n",
    "    hdmi_out.stop()\n",
    "    hdmi_in.stop()\n",
    "    hdmi_out.start()\n",
    "    hdmi_in.start()\n",
    "\n",
    "items[0].on_click(on_hdmi_clicked)\n",
    "\n",
    "widgets.VBox([items[0]])"
   ]
  },
  {
   "cell_type": "markdown",
   "metadata": {},
   "source": [
    "#### 4. User interface\n",
    "Do to the simplicity of this filter there is no need for a user interface."
   ]
  },
  {
   "cell_type": "markdown",
   "metadata": {},
   "source": [
    "#### 5. Exploration\n",
    "Due to the small size of the blur matrix and the high resolution of the image, the filter does not have a large effect on the image. It acts as a proof of concept that filtering can be done on the pynq."
   ]
  },
  {
   "cell_type": "markdown",
   "metadata": {},
   "source": [
    "#### 6. Clean up\n",
    "When you are done playing with the box blur filter, run the following code to stop the video stream"
   ]
  },
  {
   "cell_type": "code",
   "execution_count": 5,
   "metadata": {
    "collapsed": true
   },
   "outputs": [],
   "source": [
    "hdmi_out.stop()\n",
    "hdmi_in.stop()\n",
    "del hdmi_out\n",
    "del hdmi_in"
   ]
  }
 ],
 "metadata": {
  "kernelspec": {
   "display_name": "Python 3",
   "language": "python",
   "name": "python3"
  },
  "language_info": {
   "codemirror_mode": {
    "name": "ipython",
    "version": 3
   },
   "file_extension": ".py",
   "mimetype": "text/x-python",
   "name": "python",
   "nbconvert_exporter": "python",
   "pygments_lexer": "ipython3",
   "version": "3.4.3+"
  }
 },
 "nbformat": 4,
 "nbformat_minor": 1
}
