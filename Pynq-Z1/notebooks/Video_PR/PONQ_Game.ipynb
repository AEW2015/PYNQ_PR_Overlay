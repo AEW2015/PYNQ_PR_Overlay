{
 "cells": [
  {
   "cell_type": "markdown",
   "metadata": {},
   "source": [
    "#### Don't forget to delete the hdmi_out and hdmi_in when finished"
   ]
  },
  {
   "cell_type": "markdown",
   "metadata": {},
   "source": [
    "# Pynq Ponq Demonstration\n",
    "\n",
    "This is a demonstration of a video filter that allows you to play \"Pynq Ponq\" (based off of a certain classic game). The video logic is taken care of by the FPGA, while the game logic is handled in this Python script. This filter is a proof of concept, and shows how Python can keep up with a simple real-time computing task."
   ]
  },
  {
   "cell_type": "markdown",
   "metadata": {},
   "source": [
    "#### 1. Download base overlay and partial bitstream to the board\n",
    "Ensure that the camera is not connected to the board. Run the following script to provide the PYNQ with its base overlay."
   ]
  },
  {
   "cell_type": "code",
   "execution_count": 1,
   "metadata": {
    "collapsed": false
   },
   "outputs": [],
   "source": [
    "from pynq.drivers.video import HDMI\n",
    "from pynq import Bitstream_Part\n",
    "from pynq.board import Register\n",
    "from pynq import Overlay\n",
    "from random import choice\n",
    "from random import randint\n",
    "from threading import Lock as Mutex\n",
    "\n",
    "color = {\n",
    "    'red':0xff0000,\n",
    "    'green':0x0000ff,\n",
    "    'blue':0x00ff00,\n",
    "    'magenta':0xffff00,\n",
    "    'yellow':0xff00ff,\n",
    "    'cyan':0x00ffff,\n",
    "    'black':0x000000,\n",
    "    'gray':0xbebebe,\n",
    "    'white':0xffffff\n",
    "}"
   ]
  },
  {
   "cell_type": "code",
   "execution_count": 2,
   "metadata": {
    "collapsed": false
   },
   "outputs": [],
   "source": [
    "#unplug Camera\n",
    "Overlay(\"demo.bit\").download()\n",
    "Bitstream_Part(\"ponq_p.bit\").download()"
   ]
  },
  {
   "cell_type": "markdown",
   "metadata": {},
   "source": [
    "#### 2. Plug in the camera and turn it on\n",
    "This will allow the input from the camera to be fed through the PYNQ to the output monitor."
   ]
  },
  {
   "cell_type": "code",
   "execution_count": 3,
   "metadata": {
    "collapsed": false
   },
   "outputs": [],
   "source": [
    "#Plug in Camera and turn on\n",
    "\n",
    "hdmi_in = HDMI('in')\n",
    "resolution = 2\n",
    "hdmi_out = HDMI('out', video_mode=resolution, frame_list=hdmi_in.frame_list)\n",
    "\n",
    "hdmi_out.start()\n",
    "hdmi_in.start()\n"
   ]
  },
  {
   "cell_type": "code",
   "execution_count": null,
   "metadata": {
    "collapsed": true
   },
   "outputs": [],
   "source": []
  },
  {
   "cell_type": "markdown",
   "metadata": {},
   "source": [
    "#### 3. Game Logic\n",
    "The following several cells are game logic for our game of Pynq Ponq. Run each of them."
   ]
  },
  {
   "cell_type": "code",
   "execution_count": 4,
   "metadata": {
    "collapsed": false
   },
   "outputs": [],
   "source": [
    "# Game Constants\n",
    "ball_size = 8 * resolution\n",
    "deadzone = ball_size + 1 * resolution\n",
    "paddle_height = 65 * resolution\n",
    "paddle_width = 5 * resolution\n",
    "padding = 10 * resolution\n",
    "game_width = hdmi_in.frame_width()\n",
    "game_height = hdmi_in.frame_height()\n",
    "\n",
    "paddle_edge_left = padding + paddle_width\n",
    "paddle_edge_right = (game_width - paddle_width) - padding\n",
    "\n",
    "rectangle_id = 0\n",
    "# Mutex for shared resource\n",
    "id_lock = Mutex()\n",
    "\n",
    "score_height = 10 * resolution\n",
    "point_width = 20 * resolution\n",
    "\n",
    "class Rectangle:\n",
    "    \"\"\"\n",
    "    rectangle_id is a unique number that identifies this rectangle.\n",
    "    It is used to initialize the four registers that will be used to manipulate the rectangle\n",
    "    args is a dictionary that can be used to initialize rectangles with specific attributes\n",
    "    \"\"\"\n",
    "    def __init__(self, args=None):\n",
    "        global rectangle_id\n",
    "        # Write to the registers using a mutex\n",
    "        self.reg_lock = Mutex()\n",
    "        with self.reg_lock:\n",
    "            with id_lock:\n",
    "                self.x_pos  = Register((5*rectangle_id) + 0)\n",
    "                self.y_pos  = Register((5*rectangle_id) + 1)\n",
    "                self.width  = Register((5*rectangle_id) + 2)\n",
    "                self.height = Register((5*rectangle_id) + 3)\n",
    "                self.color  = Register((5*rectangle_id) + 4)\n",
    "                rectangle_id += 1\n",
    "        \n",
    "        if args['type'] == 'paddle':\n",
    "            with self.reg_lock:\n",
    "                self.width.write(paddle_width)\n",
    "                self.height.write(paddle_height)\n",
    "                self.y_pos.write((game_height // 2) - (paddle_height // 2))\n",
    "            if args['location'] == 'left':\n",
    "                with self.reg_lock:\n",
    "                    self.x_pos.write(padding)\n",
    "                    self.color.write(color['blue'])\n",
    "            elif args['location'] == 'right':\n",
    "                with self.reg_lock:\n",
    "                    self.x_pos.write(paddle_edge_right)\n",
    "                    self.color.write(color['red'])\n",
    "        elif args['type'] == 'ball':\n",
    "            with self.reg_lock:\n",
    "                self.width.write(ball_size)\n",
    "                self.height.write(ball_size)\n",
    "                self.x_pos.write(game_width // 2)\n",
    "                self.y_pos.write(game_height // 2)\n",
    "                self.color.write(randint(0,0xffffff))\n",
    "        elif args['type'] == 'score':\n",
    "            with self.reg_lock:\n",
    "                self.x_pos.write(game_width // 2)\n",
    "                self.y_pos.write(0)\n",
    "                self.width.write(0)\n",
    "                self.height.write(score_height)\n",
    "            if args['location'] == 'left':\n",
    "                with self.reg_lock:\n",
    "                    self.color.write(color['blue'])\n",
    "            elif args['location'] == 'right':\n",
    "                with self.reg_lock:\n",
    "                    self.color.write(color['red'])\n",
    "        else:\n",
    "            with self.reg_lock:\n",
    "                self.width.write(0)\n",
    "                self.height.write(0)\n",
    "                self.x_pos.write(0)\n",
    "                self.y_pos.write(0)\n",
    "                self.color.write(color['white'])\n",
    "        pass\n",
    "            \n",
    "    def erase(self):\n",
    "        \"\"\"\n",
    "        Erase this object from the display by making its width and height 0\n",
    "        \"\"\"\n",
    "        with self.reg_lock:\n",
    "            self.width.write(0)\n",
    "            self.height.write(0)\n",
    "        pass\n",
    "        \n",
    "paddle_1 = Rectangle({'type':'paddle', 'location':'left'})\n",
    "paddle_2 = Rectangle({'type':'paddle', 'location':'right'})\n",
    "score_1 = Rectangle({'type':'score', 'location':'left'})\n",
    "score_2 = Rectangle({'type':'score', 'location':'right'})"
   ]
  },
  {
   "cell_type": "code",
   "execution_count": 5,
   "metadata": {
    "collapsed": false
   },
   "outputs": [],
   "source": [
    "def player_score(player=0, points=0):\n",
    "    if player == 1:\n",
    "        # This player's score is displayed on the left side of the board\n",
    "        score_width = points * point_width\n",
    "        if score_width > game_width // 2: score_width = game_width // 2\n",
    "        with score_1.reg_lock:\n",
    "            score_1.width.write(score_width)\n",
    "            score_1.x_pos.write((game_width // 2) - score_width)\n",
    "    elif player == 2:\n",
    "        # This player's score is displayed on the right side of the board\n",
    "        # x_pos doesn't need to change for this one\n",
    "        with score_2.reg_lock:\n",
    "            score_2.width.write(points * point_width)\n",
    "    else:\n",
    "        print(\"Player %d doesn't exist\" % player)\n",
    "    pass"
   ]
  },
  {
   "cell_type": "code",
   "execution_count": 6,
   "metadata": {
    "collapsed": false
   },
   "outputs": [],
   "source": [
    "from threading import Thread\n",
    "from time import sleep\n",
    "from random import choice, randrange\n",
    "\n",
    "player_1_score = 0\n",
    "player_2_score = 0\n",
    "score_1_lock = Mutex()\n",
    "score_2_lock = Mutex()\n",
    "\n",
    "class Ball(Thread):\n",
    "    \"\"\"\n",
    "    This will create a ball object that runs on its own thread\n",
    "    All Ball movement can be paused with the game_running boolean\n",
    "    This thread can be stopped by setting halt to True\n",
    "    \"\"\"\n",
    "    def __init__(self):\n",
    "        # Initialize super class\n",
    "        Thread.__init__(self)\n",
    "        self.ball = Rectangle({'type':'ball'})\n",
    "        self.halt = False\n",
    "        # This float determines how often the game should update\n",
    "        self.update_delay = 0.02\n",
    "        #note: this uses choice rather than randrange, even though it's less concise, to avoid a case of zero x velocity\n",
    "        self.velocity = [choice([-5,-4,-3,-2,-1,1,2,3,4,5]),randrange(-5,5,1)]\n",
    "        self.speed = 2 * resolution\n",
    "        self.ospeed = self.speed\n",
    "        self.maxspeed = 6 * resolution\n",
    "\n",
    "        self.running = False\n",
    "        pass\n",
    "    \n",
    "    def run(self):\n",
    "        \"\"\"\n",
    "        This is where the physics of ball movement will be handled\n",
    "        It is also where any game logic (such as updating scores) will happen\n",
    "        \"\"\"\n",
    "        global player_1_score\n",
    "        global player_2_score\n",
    "        while not self.halt:\n",
    "            sleep(self.update_delay)\n",
    "            if self.running:\n",
    "                ##################\n",
    "                # Game Logic\n",
    "                ##################\n",
    "                x_pos = 0\n",
    "                y_pos = 0\n",
    "                \n",
    "                with self.ball.reg_lock:\n",
    "                    x_pos = self.ball.x_pos.read()\n",
    "                    y_pos = self.ball.y_pos.read()\n",
    "                \n",
    "                # Determine which paddle the ball is touching\n",
    "                side = None\n",
    "                if x_pos + ball_size >= paddle_edge_right:\n",
    "                    side = \"right\"\n",
    "                elif x_pos <= paddle_edge_left:\n",
    "                    side = \"left\"\n",
    "                    \n",
    "                # Are we even near a paddle?\n",
    "                if side:\n",
    "                    paddle_min = 0                   \n",
    "                    if side == \"left\":\n",
    "                        with paddle_1.reg_lock:\n",
    "                            paddle_min = paddle_1.y_pos.read()\n",
    "                    if side == \"right\":\n",
    "                        with paddle_2.reg_lock:\n",
    "                            paddle_min = paddle_2.y_pos.read()\n",
    "                    paddle_max = paddle_min + paddle_height\n",
    "                    \n",
    "                    # Find out if the ball is in the same height range as the paddle\n",
    "                    if paddle_min - ball_size <= y_pos and y_pos <= paddle_max and ((side == \"right\" and self.velocity[0] > 0) or (side == \"left\" and self.velocity[0] < 0)):\n",
    "                    # add up to +/- velocity-1 (the -1 ensures that it doesn't go to 0) to randomize angle\n",
    "                    # limiting to velocity-1 ensures that it stays the same sign and non-zero, then the *-1 inverts it.\n",
    "                        if self.velocity[0] < -1 or self.velocity[0] > 1:\n",
    "                            delta = randrange(-1*abs(self.velocity[0] - 1), abs(self.velocity[0] - 1),1)\n",
    "                        else:\n",
    "                            delta = 0\n",
    "                        self.velocity[0] = self.velocity[0] + delta\n",
    "                        self.velocity[0] *= -1\n",
    "                        #choice(range(-10,-1))\n",
    "                        # increase speed on each hit, up to maxspeed\n",
    "                        self.speed = self.speed + resolution / 4\n",
    "                        if self.speed >= self.maxspeed:\n",
    "                            self.speed = self.maxspeed\n",
    "\n",
    "                # Bounce off Ceiling and Floor\n",
    "                if y_pos >= (game_height - ball_size) or y_pos <= 0:\n",
    "                    self.velocity[1] *= -1\n",
    "                \n",
    "                # Multiply velocity by the speed scalar\n",
    "                x_pos += int(self.velocity[0] * self.speed)\n",
    "                y_pos += int(self.velocity[1] * self.speed)\n",
    "\n",
    "                \n",
    "                \n",
    "                # Error correction\n",
    "                if x_pos < 0: x_pos = 0\n",
    "                if y_pos < 0: y_pos = 0\n",
    "                    \n",
    "                # Player 2 Scores\n",
    "                if x_pos <= 0:\n",
    "                    with score_2_lock:\n",
    "                        player_2_score += 1\n",
    "                        player_score(2,player_2_score)\n",
    "                    x_pos = game_width // 2\n",
    "                    y_pos = game_height // 2\n",
    "                    # Ball starts off towards winner\n",
    "                    self.velocity = [choice([1,2,3,4,5]),randrange(-5,5,1)]\n",
    "                    self.speed = self.ospeed\n",
    "                    self.ball.color.write(randint(0,0xffffff))\n",
    "                \n",
    "                # Player 1 Scores\n",
    "                if x_pos >= game_width:\n",
    "                    with score_1_lock:\n",
    "                        player_1_score += 1\n",
    "                        player_score(1,player_1_score)\n",
    "                    x_pos = game_width // 2\n",
    "                    y_pos = game_height // 2\n",
    "                    # Ball starts off towards winner\n",
    "                    self.velocity = [choice([-5,-4,-3,-2,-1]),randrange(-5,5,1)]\n",
    "                    self.speed = self.ospeed\n",
    "                    self.ball.color.write(randint(0,0xffffff))\n",
    "                \n",
    "                # Write new data to registers\n",
    "                with self.ball.reg_lock:\n",
    "                    self.ball.x_pos.write(x_pos)\n",
    "                    self.ball.y_pos.write(y_pos)\n",
    "                # End Game Logic\n",
    "        pass"
   ]
  },
  {
   "cell_type": "code",
   "execution_count": 7,
   "metadata": {
    "collapsed": true
   },
   "outputs": [],
   "source": [
    "ball_1 = None\n",
    "ball_2 = None\n",
    "balls = []"
   ]
  },
  {
   "cell_type": "code",
   "execution_count": 8,
   "metadata": {
    "collapsed": false
   },
   "outputs": [],
   "source": [
    "balls.clear()\n",
    "rectangle_id= 4 # TODO for testing only\n",
    "if ball_1:\n",
    "    ball_1.halt = True\n",
    "ball_1 = Ball()\n",
    "ball_1.start()\n",
    "\n",
    "balls.append(ball_1)"
   ]
  },
  {
   "cell_type": "code",
   "execution_count": 9,
   "metadata": {
    "collapsed": true
   },
   "outputs": [],
   "source": [
    "rectangle_id= 5 # TODO for testing only\n",
    "if ball_2:\n",
    "    ball_2.halt = True\n",
    "ball_2 = Ball()\n",
    "ball_2.start()\n",
    "balls.append(ball_2)"
   ]
  },
  {
   "cell_type": "markdown",
   "metadata": {},
   "source": [
    "#### 4. Create the user interface\n",
    "Here's a rudimentary user interface to the game."
   ]
  },
  {
   "cell_type": "code",
   "execution_count": 10,
   "metadata": {
    "collapsed": false
   },
   "outputs": [],
   "source": [
    "import ipywidgets as widgets\n",
    "\n",
    "# Define the player paddles\n",
    "# player one\n",
    "player_1 = widgets.IntSlider(\n",
    "    value=255,\n",
    "    min=0 + deadzone,\n",
    "    max=game_height - paddle_height - deadzone,\n",
    "    step=1,\n",
    "    description='Player 1',\n",
    "    disabled=False,\n",
    "    continuous_update=True,\n",
    "    orientation='vertical',\n",
    "    readout=True,\n",
    "    readout_format='i',\n",
    "    slider_color='blue'\n",
    ")\n",
    "# player two\n",
    "player_2 = widgets.IntSlider(\n",
    "    value=255,\n",
    "    min=0 + deadzone,\n",
    "    max=game_height - paddle_height - deadzone,\n",
    "    step=1,\n",
    "    description='Player 2',\n",
    "    disabled=False,\n",
    "    continuous_update=True,\n",
    "    orientation='vertical',\n",
    "    readout=True,\n",
    "    readout_format='i',\n",
    "    slider_color='red'\n",
    ")\n",
    "\n",
    "paddle_1.width = '400px'\n",
    "paddle_2.width = '400px'\n",
    "\n",
    "\n",
    "def move_paddle_1(*args):\n",
    "    with paddle_1.reg_lock:\n",
    "        paddle_1.y_pos.write((game_height - player_1.value) - paddle_height)\n",
    "player_1.observe(move_paddle_1, 'value')\n",
    "    \n",
    "def move_paddle_2(*args):\n",
    "    with paddle_2.reg_lock:\n",
    "        paddle_2.y_pos.write((game_height - player_2.value) - paddle_height)\n",
    "player_2.observe(move_paddle_2, 'value')"
   ]
  },
  {
   "cell_type": "code",
   "execution_count": 11,
   "metadata": {
    "collapsed": false
   },
   "outputs": [],
   "source": [
    "from IPython.display import clear_output\n",
    "from ipywidgets import Button, HBox, VBox, Label\n",
    "\n",
    "words = ['Start', 'Pause', 'Reset', 'Stop']\n",
    "items = [Button(description=w) for w in words]\n",
    "\n",
    "def on_start_clicked(b):\n",
    "    for ball in balls:\n",
    "        ball.running = True\n",
    "        \n",
    "def on_pause_clicked(b):\n",
    "    for ball in balls:\n",
    "        ball.running = False\n",
    "    \n",
    "def on_stop_clicked(b):\n",
    "    # Stop all ball threads\n",
    "    for ball in balls:\n",
    "        ball.halt = True\n",
    "    # write zeroes to all width and height\n",
    "    for x in range(0,8):\n",
    "        Register((4*x)+0).write(0) # xpos\n",
    "        Register((4*x)+1).write(0) # ypos\n",
    "        Register((4*x)+2).write(0)  # width\n",
    "        Register((4*x)+3).write(0)  # height\n",
    "    \n",
    "def on_reset_clicked(b):\n",
    "    # Reset player score\n",
    "    global player_1_score\n",
    "    global player_2_score\n",
    "    player_1_score = 0\n",
    "    player_2_score = 0\n",
    "    player_score(1,0)\n",
    "    player_score(2,0)\n",
    "    # Reset paddle position\n",
    "    paddle_1.y_pos.write((game_height // 2) - (paddle_height // 2))\n",
    "    paddle_2.y_pos.write((game_height // 2) - (paddle_height // 2))\n",
    "    # Put ball in center change its color \n",
    "    for ball in balls:\n",
    "        ball.ball.x_pos.write(game_width // 2)\n",
    "        ball.ball.y_pos.write(game_height // 2)\n",
    "        ball.ball.color.write(randint(0,0xffffff))\n",
    "\n",
    "    \n",
    "items[0].on_click(on_start_clicked)\n",
    "items[1].on_click(on_pause_clicked)\n",
    "items[2].on_click(on_reset_clicked)\n",
    "items[3].on_click(on_stop_clicked)"
   ]
  },
  {
   "cell_type": "code",
   "execution_count": 12,
   "metadata": {
    "collapsed": false
   },
   "outputs": [
    {
     "name": "stderr",
     "output_type": "stream",
     "text": [
      "Widget Javascript not detected.  It may not be installed properly. Did you enable the widgetsnbextension? If not, then run \"jupyter nbextension enable --py --sys-prefix widgetsnbextension\"\n"
     ]
    }
   ],
   "source": [
    "GUI = VBox([ HBox([player_1, player_2]), HBox([items[0], items[1], items[2], items[3]])])\n",
    "GUI.layout.justify_content = 'center'\n",
    "GUI"
   ]
  },
  {
   "cell_type": "markdown",
   "metadata": {},
   "source": [
    "#### 5. Play\n",
    "\n",
    "The left and right sliders control the left and right paddles respectively.\n",
    "\n",
    "Pressing start starts the game. Pressing pause pauses the game. Pressing reset resets the game. And pressing stop kills the game."
   ]
  },
  {
   "cell_type": "markdown",
   "metadata": {},
   "source": [
    "#### 6. Play with an AI\n",
    "\n",
    "The above controls are not the most user friendly for two players, so run the next couple of scripts to play against a simple AI."
   ]
  },
  {
   "cell_type": "code",
   "execution_count": 17,
   "metadata": {
    "collapsed": true
   },
   "outputs": [],
   "source": [
    "# Have AI Play\n",
    "min_height = 0 + deadzone,\n",
    "max_height = game_height - paddle_height - deadzone,\n",
    "class AI(Thread):\n",
    "    \"\"\"\n",
    "    This will create an AI to control a specific paddle\n",
    "    \"\"\"\n",
    "    def __init__(self, paddle):\n",
    "        # Initialize super class\n",
    "        Thread.__init__(self)\n",
    "        self.halt = False\n",
    "        self.paddle = paddle\n",
    "        # This float determines how often the game should update\n",
    "        self.update_delay = 0.02\n",
    "        self.running = False\n",
    "        pass\n",
    "    \n",
    "    def run(self):\n",
    "        \"\"\"\n",
    "        This is where AI logic happens\n",
    "        \"\"\"\n",
    "        while not self.halt:\n",
    "            sleep(self.update_delay)\n",
    "            if self.running:\n",
    "                # Move the paddle\n",
    "                current_pos = self.paddle.y_pos.read()\n",
    "                self.paddle.y_pos.write(current_pos - 1)\n",
    "                pass"
   ]
  },
  {
   "cell_type": "code",
   "execution_count": 18,
   "metadata": {
    "collapsed": true
   },
   "outputs": [],
   "source": [
    "computer_1 = None"
   ]
  },
  {
   "cell_type": "code",
   "execution_count": 19,
   "metadata": {
    "collapsed": false
   },
   "outputs": [],
   "source": [
    "if computer_1:\n",
    "    computer_1.halt = True\n",
    "computer_1 = AI(paddle_1)\n",
    "computer_1.start()"
   ]
  },
  {
   "cell_type": "code",
   "execution_count": 16,
   "metadata": {
    "collapsed": false
   },
   "outputs": [
    {
     "data": {
      "text/html": [
       "<script>\n",
       "code_show=true; \n",
       "function code_toggle() {\n",
       " if (code_show){\n",
       " $('div.input').hide();\n",
       " } else {\n",
       " $('div.input').show();\n",
       " }\n",
       " code_show = !code_show\n",
       "} \n",
       "$( document ).ready(code_toggle);\n",
       "</script>\n",
       "The raw code for this IPython notebook is by default hidden for easier reading.\n",
       "To toggle on/off the raw code, click <a href=\"javascript:code_toggle()\">here</a>."
      ],
      "text/plain": [
       "<IPython.core.display.HTML object>"
      ]
     },
     "execution_count": 16,
     "metadata": {},
     "output_type": "execute_result"
    }
   ],
   "source": [
    "from IPython.display import HTML\n",
    "HTML('''<script>\n",
    "code_show=true; \n",
    "function code_toggle() {\n",
    " if (code_show){\n",
    " $('div.input').hide();\n",
    " } else {\n",
    " $('div.input').show();\n",
    " }\n",
    " code_show = !code_show\n",
    "} \n",
    "$( document ).ready(code_toggle);\n",
    "</script>\n",
    "The raw code for this IPython notebook is by default hidden for easier reading.\n",
    "To toggle on/off the raw code, click <a href=\"javascript:code_toggle()\">here</a>.''')"
   ]
  },
  {
   "cell_type": "markdown",
   "metadata": {},
   "source": [
    "#### 7. Clean up\n",
    "When you are done playing Pynq Ponq, run the following code to stop the video stream."
   ]
  },
  {
   "cell_type": "code",
   "execution_count": 20,
   "metadata": {
    "collapsed": false
   },
   "outputs": [],
   "source": [
    "hdmi_out.stop()\n",
    "hdmi_in.stop()\n",
    "del hdmi_out\n",
    "del hdmi_in"
   ]
  }
 ],
 "metadata": {
  "kernelspec": {
   "display_name": "Python 3",
   "language": "python",
   "name": "python3"
  },
  "language_info": {
   "codemirror_mode": {
    "name": "ipython",
    "version": 3
   },
   "file_extension": ".py",
   "mimetype": "text/x-python",
   "name": "python",
   "nbconvert_exporter": "python",
   "pygments_lexer": "ipython3",
   "version": "3.4.3+"
  }
 },
 "nbformat": 4,
 "nbformat_minor": 1
}
