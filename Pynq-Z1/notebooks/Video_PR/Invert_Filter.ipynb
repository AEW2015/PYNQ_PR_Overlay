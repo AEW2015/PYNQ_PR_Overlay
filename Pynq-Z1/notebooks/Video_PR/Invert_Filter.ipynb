{
 "cells": [
  {
   "cell_type": "markdown",
   "metadata": {},
   "source": [
    "#### Don't forget to delete the hdmi_out and hdmi_in when finished"
   ]
  },
  {
   "cell_type": "markdown",
   "metadata": {},
   "source": [
    "# Invert Filter Example\n",
    "In this notebook, we will explore how to invert colors in an image. Also known as a negative image, it is a total inversion, in which light areas appear dark and dark appears light. Additionally, these images are color-reversed, with red appearing as cyan, greens appearing magenta, and blues appearing yellow, and vice versa.\n",
    "\n",
    "To obtain the inverted color value, you take the maximum value that the color can be. For example, if you have a 256 color scheme, 255 is the maximum color value possible (from 0 - 255). You subtract the actual color from the maximum color to get its inverse. \n",
    "\n",
    "So if you have a yellow color that is R = 255, G = 255, and B = 0, and you subtract the values to get the inverse\n",
    "\n",
    "you would result with R = 0, G = 0, and B = 255 which leaves you with just the color blue.\n",
    "\n",
    "You can see this color inversion in the table below.\n",
    "\n",
    "<img src=\"data/ColorNegatives.png\"/>\n",
    "*This diagram shows color-reserved colors (from en.wikipedia.org/wiki/Negative_(photography) ).*\n",
    "\n",
    "This notebook will use a video filter that inverts the input image."
   ]
  },
  {
   "cell_type": "markdown",
   "metadata": {},
   "source": [
    "#### 1. Download base overlay to the board\n",
    "Ensure that the camera is not connected to the board. Run the following script to provide the PYNQ with its base overlay."
   ]
  },
  {
   "cell_type": "code",
   "execution_count": 1,
   "metadata": {
    "collapsed": false
   },
   "outputs": [],
   "source": [
    "from pynq.drivers.video import HDMI\n",
    "from pynq import Bitstream_Part\n",
    "from pynq.board import Register\n",
    "from pynq import Overlay\n",
    "\n",
    "Overlay(\"demo.bit\").download()"
   ]
  },
  {
   "cell_type": "markdown",
   "metadata": {},
   "source": [
    "#### 2. Connect camera\n",
    "Physically connect the camera to the HDMI-in port of the PYNQ. Run the following code to instruct the PYNQ to capture the video from the camera and to begin streaming video to your monitor (connected to the HDMI-out port)."
   ]
  },
  {
   "cell_type": "code",
   "execution_count": 11,
   "metadata": {
    "collapsed": false
   },
   "outputs": [],
   "source": [
    "hdmi_in = HDMI('in')\n",
    "hdmi_out = HDMI('out', frame_list=hdmi_in.frame_list)\n",
    "hdmi_out.mode(2) #2 is for camera\n",
    "hdmi_out.start()\n",
    "hdmi_in.start()\n",
    "\n",
    "#Valid resolutions are:\n",
    "#\n",
    "# 0 : '640x480@60Hz' \n",
    "# 1 : '800x600@60Hz' \n",
    "# 2 : '1280x720@60Hz' \n",
    "# 3 : '1280x1024@60Hz' \n",
    "# 4 : '1920x1080@60Hz'"
   ]
  },
  {
   "cell_type": "markdown",
   "metadata": {},
   "source": [
    "#### 3. Program board with Invert Filter\n",
    "Run the following script to download the Invert Filter to the PYNQ. This will allow us to modify the colors of the video stream."
   ]
  },
  {
   "cell_type": "code",
   "execution_count": 10,
   "metadata": {
    "collapsed": true
   },
   "outputs": [],
   "source": [
    "Bitstream_Part(\"invert_p.bit\").download()"
   ]
  },
  {
   "cell_type": "markdown",
   "metadata": {},
   "source": [
    "#### 4. Create HDMI Reset Button\n",
    "Run the following script to create an HDMI Reset button that can be used to reset the HDMI if there are issues."
   ]
  },
  {
   "cell_type": "code",
   "execution_count": 8,
   "metadata": {
    "collapsed": true
   },
   "outputs": [],
   "source": [
    "import ipywidgets as widgets\n",
    "from ipywidgets import Button, HBox, VBox, Label\n",
    "\n",
    "words = ['HDMI Reset']\n",
    "items = [Button(description=w) for w in words]\n",
    "\n",
    "\n",
    "def on_hdmi_clicked(b):\n",
    "    hdmi_out.stop()\n",
    "    hdmi_in.stop()\n",
    "    hdmi_out.start()\n",
    "    hdmi_in.start()\n",
    "\n",
    "items[0].on_click(on_hdmi_clicked)\n",
    "\n",
    "widgets.VBox([items[0]])"
   ]
  },
  {
   "cell_type": "markdown",
   "metadata": {},
   "source": [
    "#### 5. Clean up\n",
    "When you are done playing with the Invert filter, run the following code to stop the video stream"
   ]
  },
  {
   "cell_type": "code",
   "execution_count": 12,
   "metadata": {
    "collapsed": true
   },
   "outputs": [],
   "source": [
    "hdmi_out.stop()\n",
    "hdmi_in.stop()\n",
    "del hdmi_out\n",
    "del hdmi_in"
   ]
  }
 ],
 "metadata": {
  "kernelspec": {
   "display_name": "Python 3",
   "language": "python",
   "name": "python3"
  },
  "language_info": {
   "codemirror_mode": {
    "name": "ipython",
    "version": 3
   },
   "file_extension": ".py",
   "mimetype": "text/x-python",
   "name": "python",
   "nbconvert_exporter": "python",
   "pygments_lexer": "ipython3",
   "version": "3.4.3+"
  }
 },
 "nbformat": 4,
 "nbformat_minor": 1
}
