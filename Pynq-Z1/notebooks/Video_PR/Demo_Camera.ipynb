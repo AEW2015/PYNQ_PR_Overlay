{
 "cells": [
  {
   "cell_type": "code",
   "execution_count": 7,
   "metadata": {
    "collapsed": false
   },
   "outputs": [],
   "source": [
    "from pynq.drivers.video import HDMI\n",
    "from pynq import Bitstream_Part\n",
    "from pynq.board import Register\n",
    "from pynq import Overlay\n",
    "#unplug Camera\n",
    "Overlay(\"demo.bit\").download()\n",
    "#Plug in Camera and turn on"
   ]
  },
  {
   "cell_type": "code",
   "execution_count": 8,
   "metadata": {
    "collapsed": false
   },
   "outputs": [],
   "source": [
    "hdmi_in = HDMI('in')\n",
    "hdmi_out = HDMI('out', frame_list=hdmi_in.frame_list)\n",
    "hdmi_out.mode(2)#2 is for camera\n",
    "hdmi_out.start()\n",
    "hdmi_in.start()"
   ]
  },
  {
   "cell_type": "code",
   "execution_count": 9,
   "metadata": {
    "collapsed": true
   },
   "outputs": [],
   "source": [
    "R0 =Register(0)\n",
    "R1 =Register(1)\n",
    "R2 =Register(2)\n",
    "R3 =Register(3)\n",
    "import ipywidgets as widgets\n",
    "\n",
    "\n",
    "R0_s = widgets.IntSlider(\n",
    "    value=255,\n",
    "    min=0,\n",
    "    max=255,\n",
    "    step=1,\n",
    "    description='R0:',\n",
    "    disabled=False,\n",
    "    continuous_update=True,\n",
    "    orientation='vertical',\n",
    "    readout=True,\n",
    "    readout_format='i',\n",
    "    slider_color='red'\n",
    ")\n",
    "R1_s = widgets.IntSlider(\n",
    "    value=255,\n",
    "    min=0,\n",
    "    max=255,\n",
    "    step=1,\n",
    "    description='R1:',\n",
    "    disabled=False,\n",
    "    continuous_update=True,\n",
    "    orientation='vertical',\n",
    "    readout=True,\n",
    "    readout_format='i',\n",
    "    slider_color='green'\n",
    ")\n",
    "R2_s = widgets.IntSlider(\n",
    "    value=255,\n",
    "    min=0,\n",
    "    max=255,\n",
    "    step=1,\n",
    "    description='R2:',\n",
    "    disabled=False,\n",
    "    continuous_update=True,\n",
    "    orientation='vertical',\n",
    "    readout=True,\n",
    "    readout_format='i',\n",
    "    slider_color='blue'\n",
    ")\n",
    "R3_s = widgets.IntSlider(\n",
    "    value=255,\n",
    "    min=0,\n",
    "    max=255,\n",
    "    step=1,\n",
    "    description='R3:',\n",
    "    disabled=False,\n",
    "    continuous_update=True,\n",
    "    orientation='vertical',\n",
    "    readout=True,\n",
    "    readout_format='i',\n",
    "    slider_color='yellow'\n",
    ")\n",
    "\n",
    "def update_r0(*args):\n",
    "    R0.write(R0_s.value)\n",
    "R0_s.observe(update_r0, 'value')\n",
    "def update_r1(*args):\n",
    "    R1.write(R1_s.value)\n",
    "R1_s.observe(update_r1, 'value')\n",
    "def update_r2(*args):\n",
    "    R2.write(R2_s.value)\n",
    "R2_s.observe(update_r2, 'value')\n",
    "def update_r3(*args):\n",
    "    R3.write(R3_s.value)\n",
    "R3_s.observe(update_r3, 'value')"
   ]
  },
  {
   "cell_type": "code",
   "execution_count": 10,
   "metadata": {
    "collapsed": false
   },
   "outputs": [],
   "source": [
    "from IPython.display import clear_output\n",
    "from ipywidgets import Button, HBox, VBox\n",
    "\n",
    "words = ['HDMI Reset','Pass', 'RGB','Box', 'Invert', 'Gscale','Mirror']\n",
    "items = [Button(description=w) for w in words]\n",
    "\n",
    "\n",
    "def on_hdmi_clicked(b):\n",
    "    hdmi_out.stop()\n",
    "    hdmi_in.stop()\n",
    "    hdmi_out.start()\n",
    "    hdmi_in.start()\n",
    "def on_pass_clicked(b):\n",
    "    Bitstream_Part(\"pass_p.bit\").download()\n",
    "def on_rgb_clicked(b):\n",
    "    Bitstream_Part(\"rgb_p.bit\").download()\n",
    "    R0.write(255)\n",
    "    R1.write(255)\n",
    "    R2.write(255)\n",
    "    R0_s.value = 255\n",
    "    R0_s.max = 255\n",
    "    R0_s.description='Red:'\n",
    "    R1_s.value = 255\n",
    "    R1_s.max = 255\n",
    "    R1_s.description='Green:'\n",
    "    R2_s.value = 255\n",
    "    R2_s.max = 255\n",
    "    R2_s.description='Blue:'\n",
    "    R3_s.disabled = True\n",
    "    R3_s.description='Disabled'\n",
    "def on_box_clicked(b):\n",
    "    Bitstream_Part(\"box_p.bit\").download()\n",
    "    R0.write(200)\n",
    "    R1.write(1020)\n",
    "    R2.write(175)\n",
    "    R3.write(620)\n",
    "    R0_s.max = 1279\n",
    "    R0_s.value = 200\n",
    "    R0_s.description='X1:'\n",
    "    R1_s.max = 1279\n",
    "    R1_s.value = 1020\n",
    "    R1_s.description='X2:'\n",
    "    R2_s.max = 719\n",
    "    R2_s.value = 175\n",
    "    R2_s.description='Y1:'\n",
    "    R3_s.disabled = False\n",
    "    R3_s.max = 719\n",
    "    R3_s.value = 620\n",
    "    R3_s.description='Y2:'\n",
    "def on_Invert_clicked(b):\n",
    "    Bitstream_Part(\"invert_p.bit\").download()\n",
    "def on_Gscale_clicked(b):\n",
    "    Bitstream_Part(\"gscale_p.bit\").download()\n",
    "def on_Mirror_clicked(b):\n",
    "    Bitstream_Part(\"mirror_p.bit\").download()\n",
    "\n",
    "items[0].on_click(on_hdmi_clicked)\n",
    "items[1].on_click(on_pass_clicked)\n",
    "items[2].on_click(on_rgb_clicked)\n",
    "items[3].on_click(on_box_clicked)\n",
    "items[4].on_click(on_Invert_clicked)\n",
    "items[5].on_click(on_Gscale_clicked)\n",
    "items[6].on_click(on_Mirror_clicked)\n"
   ]
  },
  {
   "cell_type": "code",
   "execution_count": 11,
   "metadata": {
    "collapsed": false
   },
   "outputs": [
    {
     "ename": "SystemError",
     "evalue": "Unable to start capture device [13]",
     "output_type": "error",
     "traceback": [
      "\u001b[0;31m---------------------------------------------------------------------------\u001b[0m",
      "\u001b[0;31mSystemError\u001b[0m                               Traceback (most recent call last)",
      "\u001b[0;32m<ipython-input-10-7a2d7478bac4>\u001b[0m in \u001b[0;36mon_hdmi_clicked\u001b[0;34m(b)\u001b[0m\n\u001b[1;32m     10\u001b[0m     \u001b[0mhdmi_in\u001b[0m\u001b[0;34m.\u001b[0m\u001b[0mstop\u001b[0m\u001b[0;34m(\u001b[0m\u001b[0;34m)\u001b[0m\u001b[0;34m\u001b[0m\u001b[0m\n\u001b[1;32m     11\u001b[0m     \u001b[0mhdmi_out\u001b[0m\u001b[0;34m.\u001b[0m\u001b[0mstart\u001b[0m\u001b[0;34m(\u001b[0m\u001b[0;34m)\u001b[0m\u001b[0;34m\u001b[0m\u001b[0m\n\u001b[0;32m---> 12\u001b[0;31m     \u001b[0mhdmi_in\u001b[0m\u001b[0;34m.\u001b[0m\u001b[0mstart\u001b[0m\u001b[0;34m(\u001b[0m\u001b[0;34m)\u001b[0m\u001b[0;34m\u001b[0m\u001b[0m\n\u001b[0m\u001b[1;32m     13\u001b[0m \u001b[0;32mdef\u001b[0m \u001b[0mon_pass_clicked\u001b[0m\u001b[0;34m(\u001b[0m\u001b[0mb\u001b[0m\u001b[0;34m)\u001b[0m\u001b[0;34m:\u001b[0m\u001b[0;34m\u001b[0m\u001b[0m\n\u001b[1;32m     14\u001b[0m     \u001b[0mBitstream_Part\u001b[0m\u001b[0;34m(\u001b[0m\u001b[0;34m\"pass_p.bit\"\u001b[0m\u001b[0;34m)\u001b[0m\u001b[0;34m.\u001b[0m\u001b[0mdownload\u001b[0m\u001b[0;34m(\u001b[0m\u001b[0;34m)\u001b[0m\u001b[0;34m\u001b[0m\u001b[0m\n",
      "\u001b[0;32m/usr/local/lib/python3.4/dist-packages/pynq/drivers/video.py\u001b[0m in \u001b[0;36mstart\u001b[0;34m(self, timeout)\u001b[0m\n\u001b[1;32m    584\u001b[0m                     \u001b[0mtimeout\u001b[0m \u001b[0;34m-=\u001b[0m \u001b[0;36m1\u001b[0m\u001b[0;34m\u001b[0m\u001b[0m\n\u001b[1;32m    585\u001b[0m                 \u001b[0;32melse\u001b[0m\u001b[0;34m:\u001b[0m\u001b[0;34m\u001b[0m\u001b[0m\n\u001b[0;32m--> 586\u001b[0;31m                     \u001b[0;32mraise\u001b[0m \u001b[0merr\u001b[0m\u001b[0;34m\u001b[0m\u001b[0m\n\u001b[0m\u001b[1;32m    587\u001b[0m \u001b[0;34m\u001b[0m\u001b[0m\n\u001b[1;32m    588\u001b[0m     \u001b[0;32mdef\u001b[0m \u001b[0m_frame_out\u001b[0m\u001b[0;34m(\u001b[0m\u001b[0mself\u001b[0m\u001b[0;34m,\u001b[0m \u001b[0;34m*\u001b[0m\u001b[0margs\u001b[0m\u001b[0;34m)\u001b[0m\u001b[0;34m:\u001b[0m\u001b[0;34m\u001b[0m\u001b[0m\n",
      "\u001b[0;32m/usr/local/lib/python3.4/dist-packages/pynq/drivers/video.py\u001b[0m in \u001b[0;36mstart\u001b[0;34m(self, timeout)\u001b[0m\n\u001b[1;32m    578\u001b[0m         \u001b[0;32mwhile\u001b[0m \u001b[0mself\u001b[0m\u001b[0;34m.\u001b[0m\u001b[0mstate\u001b[0m\u001b[0;34m(\u001b[0m\u001b[0;34m)\u001b[0m \u001b[0;34m!=\u001b[0m \u001b[0;36m1\u001b[0m\u001b[0;34m:\u001b[0m\u001b[0;34m\u001b[0m\u001b[0m\n\u001b[1;32m    579\u001b[0m             \u001b[0;32mtry\u001b[0m\u001b[0;34m:\u001b[0m\u001b[0;34m\u001b[0m\u001b[0m\n\u001b[0;32m--> 580\u001b[0;31m                 \u001b[0mself\u001b[0m\u001b[0;34m.\u001b[0m\u001b[0m_capture\u001b[0m\u001b[0;34m.\u001b[0m\u001b[0mstart\u001b[0m\u001b[0;34m(\u001b[0m\u001b[0;34m)\u001b[0m\u001b[0;34m\u001b[0m\u001b[0m\n\u001b[0m\u001b[1;32m    581\u001b[0m             \u001b[0;32mexcept\u001b[0m \u001b[0mException\u001b[0m \u001b[0;32mas\u001b[0m \u001b[0merr\u001b[0m\u001b[0;34m:\u001b[0m\u001b[0;34m\u001b[0m\u001b[0m\n\u001b[1;32m    582\u001b[0m                 \u001b[0;32mif\u001b[0m \u001b[0mtimeout\u001b[0m \u001b[0;34m>\u001b[0m \u001b[0;36m0\u001b[0m\u001b[0;34m:\u001b[0m\u001b[0;34m\u001b[0m\u001b[0m\n",
      "\u001b[0;31mSystemError\u001b[0m: Unable to start capture device [13]"
     ]
    }
   ],
   "source": [
    "HBox([VBox([items[0], items[1],items[2], items[3],items[4],items[5],items[6]]),R0_s,R1_s,R2_s,R3_s])"
   ]
  },
  {
   "cell_type": "code",
   "execution_count": null,
   "metadata": {
    "collapsed": true
   },
   "outputs": [],
   "source": [
    "from IPython.display import HTML\n",
    "HTML('''<script>\n",
    "code_show=true; \n",
    "function code_toggle() {\n",
    " if (code_show){\n",
    " $('div.input').hide();\n",
    " } else {\n",
    " $('div.input').show();\n",
    " }\n",
    " code_show = !code_show\n",
    "} \n",
    "$( document ).ready(code_toggle);\n",
    "</script>\n",
    "The raw code for this IPython notebook is by default hidden for easier reading.\n",
    "To toggle on/off the raw code, click <a href=\"javascript:code_toggle()\">here</a>.''')"
   ]
  },
  {
   "cell_type": "code",
   "execution_count": null,
   "metadata": {
    "collapsed": false
   },
   "outputs": [],
   "source": [
    "hdmi_out.stop()\n",
    "hdmi_in.stop()\n",
    "del hdmi_out\n",
    "del hdmi_in"
   ]
  }
 ],
 "metadata": {
  "kernelspec": {
   "display_name": "Python 3",
   "language": "python",
   "name": "python3"
  },
  "language_info": {
   "codemirror_mode": {
    "name": "ipython",
    "version": 3
   },
   "file_extension": ".py",
   "mimetype": "text/x-python",
   "name": "python",
   "nbconvert_exporter": "python",
   "pygments_lexer": "ipython3",
   "version": "3.4.3+"
  }
 },
 "nbformat": 4,
 "nbformat_minor": 1
}
