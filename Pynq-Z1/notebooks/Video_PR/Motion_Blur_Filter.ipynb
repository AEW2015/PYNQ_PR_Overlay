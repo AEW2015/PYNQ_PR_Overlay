{
 "cells": [
  {
   "cell_type": "markdown",
   "metadata": {},
   "source": [
    "#### Don't forget to delete the hdmi_out and hdmi_in when finished"
   ]
  },
  {
   "cell_type": "markdown",
   "metadata": {},
   "source": [
    "# Motion Blur Filter Example\n",
    "In this notebook, we will demonstrate how to use the motion blur filter. This filter shows that partially reconfigurable modules can use Xilinx IP cores. This filter blurs the video feed horizontally. The length of the blur is determined by a register in the module. This register is controlled by a python slide widget.\n",
    "<img src=\"data/motion.jpg\"/>\n",
    "This filter works by adding up the RBG values of the pixels to the left of the pixel being displayed and then dividing by the number of pixels. The number of pixels to blur is determined by a register. A Xilinx divider core is needed to operate the dividing. This is because the numerator and denominator of the division are variables.\n"
   ]
  },
  {
   "cell_type": "markdown",
   "metadata": {},
   "source": [
    "#### 1. Download base overlay to the board\n",
    "Ensure that the camera is not connected to the board. Run the following script to provide the PYNQ with its base overlay."
   ]
  },
  {
   "cell_type": "code",
   "execution_count": 1,
   "metadata": {
    "collapsed": false
   },
   "outputs": [],
   "source": [
    "from pynq.drivers.video import HDMI\n",
    "from pynq import Bitstream_Part\n",
    "from pynq.board import Register\n",
    "from pynq import Overlay\n",
    "\n",
    "Overlay(\"demo.bit\").download()"
   ]
  },
  {
   "cell_type": "markdown",
   "metadata": {},
   "source": [
    "#### 2. Connect camera\n",
    "Physically connect the camera to the HDMI-in port of the PYNQ. Run the following code to instruct the PYNQ to capture the video from the camera and to begin streaming video to your monitor (connected to the HDMI-out port)."
   ]
  },
  {
   "cell_type": "code",
   "execution_count": 2,
   "metadata": {
    "collapsed": true
   },
   "outputs": [],
   "source": [
    "hdmi_in = HDMI('in')\n",
    "hdmi_out = HDMI('out', frame_list=hdmi_in.frame_list)\n",
    "hdmi_out.mode(2)\n",
    "hdmi_out.start()\n",
    "hdmi_in.start()"
   ]
  },
  {
   "cell_type": "markdown",
   "metadata": {},
   "source": [
    "#### 3. Program board\n",
    "Run the following script to download the Motion Blur Filter to the PYNQ."
   ]
  },
  {
   "cell_type": "code",
   "execution_count": 3,
   "metadata": {
    "collapsed": true
   },
   "outputs": [],
   "source": [
    "Bitstream_Part(\"motion_p.bit\").download()"
   ]
  },
  {
   "cell_type": "markdown",
   "metadata": {},
   "source": [
    "#### 4. Create a user interface\n",
    "We will communicate with the filter using a nice user interface. Run the following code to activate that interface."
   ]
  },
  {
   "cell_type": "code",
   "execution_count": 5,
   "metadata": {
    "collapsed": false
   },
   "outputs": [],
   "source": [
    "import ipywidgets as widgets\n",
    "\n",
    "R0 =Register(0)\n",
    "\n",
    "R0.write(255)\n",
    "\n",
    "R0_s = widgets.IntSlider(\n",
    "    value=255,\n",
    "    min=0,\n",
    "    max=511,\n",
    "    step=1,\n",
    "    description='Blur:',\n",
    "    disabled=False,\n",
    "    continuous_update=True,\n",
    "    orientation='vertical',\n",
    "    readout=True,\n",
    "    readout_format='i',\n",
    "    slider_color='red'\n",
    ")\n",
    "\n",
    "def update_r0(*args):\n",
    "    R0.write(R0_s.value)\n",
    "R0_s.observe(update_r0, 'value')\n",
    "\n",
    "widgets.HBox([R0_s])"
   ]
  },
  {
   "cell_type": "markdown",
   "metadata": {},
   "source": [
    "#### 5. Exploration\n",
    "Move the slider above to change the lenght of the blur. When the slider is set to zero there is no blur. Notice how quickly the filter responds to the movement of the slider."
   ]
  },
  {
   "cell_type": "markdown",
   "metadata": {},
   "source": [
    "#### 6. Clean up\n",
    "When you are done with the filter, run the following code to stop the video stream"
   ]
  },
  {
   "cell_type": "code",
   "execution_count": 6,
   "metadata": {
    "collapsed": true
   },
   "outputs": [],
   "source": [
    "hdmi_out.stop()\n",
    "hdmi_in.stop()\n",
    "del hdmi_out\n",
    "del hdmi_in"
   ]
  }
 ],
 "metadata": {
  "kernelspec": {
   "display_name": "Python 3",
   "language": "python",
   "name": "python3"
  },
  "language_info": {
   "codemirror_mode": {
    "name": "ipython",
    "version": 3
   },
   "file_extension": ".py",
   "mimetype": "text/x-python",
   "name": "python",
   "nbconvert_exporter": "python",
   "pygments_lexer": "ipython3",
   "version": "3.4.3+"
  }
 },
 "nbformat": 4,
 "nbformat_minor": 1
}
