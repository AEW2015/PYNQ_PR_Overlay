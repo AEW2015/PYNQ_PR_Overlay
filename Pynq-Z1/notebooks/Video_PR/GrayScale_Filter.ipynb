{
 "cells": [
  {
   "cell_type": "markdown",
   "metadata": {},
   "source": [
    "#### Don't forget to delete the hdmi_out and hdmi_in when finished"
   ]
  },
  {
   "cell_type": "markdown",
   "metadata": {},
   "source": [
    "# Grayscale Filter Example\n",
    "In this notebook, we will explore the averaging of RGB values. Each color is made up of some mixture of red, green, and blue (More information in RGB Filter Example). To convert an image to grayscale, the values of red, green, and blue are added together and then divided by three to get the average color value. This averaged value is the new color value that is used for each red, green, and blue values. This creates a \"black and white\" image which is comprised of different shades of grey.\n",
    "\n",
    "<img src=\"data/RGB-Grayscale.png\"/>\n",
    "*This diagram shows the conversion of colors to grayscale.*\n",
    "\n",
    "This notebook will use a video filter that will convert any image to a grayscale (\"black and white\") image."
   ]
  },
  {
   "cell_type": "markdown",
   "metadata": {},
   "source": [
    "#### 1. Download base overlay to the board\n",
    "Ensure that the camera is not connected to the board. Run the following script to provide the PYNQ with its base overlay."
   ]
  },
  {
   "cell_type": "code",
   "execution_count": 1,
   "metadata": {
    "collapsed": false
   },
   "outputs": [],
   "source": [
    "from pynq.drivers.video import HDMI\n",
    "from pynq import Bitstream_Part\n",
    "from pynq.board import Register\n",
    "from pynq import Overlay\n",
    "\n",
    "Overlay(\"demo.bit\").download()"
   ]
  },
  {
   "cell_type": "markdown",
   "metadata": {},
   "source": [
    "#### 2. Connect camera\n",
    "Physically connect the camera to the HDMI-in port of the PYNQ. Run the following code to instruct the PYNQ to capture the video from the camera and to begin streaming video to your monitor (connected to the HDMI-out port)."
   ]
  },
  {
   "cell_type": "code",
   "execution_count": 2,
   "metadata": {
    "collapsed": false
   },
   "outputs": [],
   "source": [
    "hdmi_in = HDMI('in')\n",
    "hdmi_out = HDMI('out', frame_list=hdmi_in.frame_list)\n",
    "hdmi_out.mode(2)\n",
    "hdmi_out.start()\n",
    "hdmi_in.start()"
   ]
  },
  {
   "cell_type": "markdown",
   "metadata": {},
   "source": [
    "#### 3. Program board with Grayscale Filter\n",
    "Run the following script to download the Grayscale Filter to the PYNQ. This will allow us to modify the colors of the video stream."
   ]
  },
  {
   "cell_type": "code",
   "execution_count": 3,
   "metadata": {
    "collapsed": false
   },
   "outputs": [],
   "source": [
    "Bitstream_Part(\"gscale_p.bit\").download()"
   ]
  },
  {
   "cell_type": "markdown",
   "metadata": {},
   "source": [
    "#### 4. Create HDMI Reset Button\n",
    "Run the following script to create an HDMI Reset button that can be used to reset the HDMI if there are issues."
   ]
  },
  {
   "cell_type": "code",
   "execution_count": 4,
   "metadata": {
    "collapsed": true
   },
   "outputs": [],
   "source": [
    "import ipywidgets as widgets\n",
    "from ipywidgets import Button, HBox, VBox, Label\n",
    "\n",
    "words = ['HDMI Reset']\n",
    "items = [Button(description=w) for w in words]\n",
    "\n",
    "\n",
    "def on_hdmi_clicked(b):\n",
    "    hdmi_out.stop()\n",
    "    hdmi_in.stop()\n",
    "    hdmi_out.start()\n",
    "    hdmi_in.start()\n",
    "\n",
    "items[0].on_click(on_hdmi_clicked)\n",
    "\n",
    "widgets.VBox([items[0]])"
   ]
  },
  {
   "cell_type": "markdown",
   "metadata": {},
   "source": [
    "#### 5. Clean up\n",
    "When you are done playing with the Grayscale filter, run the following code to stop the video stream"
   ]
  },
  {
   "cell_type": "code",
   "execution_count": 5,
   "metadata": {
    "collapsed": true
   },
   "outputs": [],
   "source": [
    "hdmi_out.stop()\n",
    "hdmi_in.stop()\n",
    "del hdmi_out\n",
    "del hdmi_in"
   ]
  }
 ],
 "metadata": {
  "kernelspec": {
   "display_name": "Python 3",
   "language": "python",
   "name": "python3"
  },
  "language_info": {
   "codemirror_mode": {
    "name": "ipython",
    "version": 3
   },
   "file_extension": ".py",
   "mimetype": "text/x-python",
   "name": "python",
   "nbconvert_exporter": "python",
   "pygments_lexer": "ipython3",
   "version": "3.4.3+"
  }
 },
 "nbformat": 4,
 "nbformat_minor": 1
}
