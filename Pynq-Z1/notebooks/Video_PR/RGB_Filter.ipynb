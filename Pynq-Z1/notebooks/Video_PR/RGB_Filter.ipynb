{
 "cells": [
  {
   "cell_type": "markdown",
   "metadata": {},
   "source": [
    "#### Don't forget to delete the hdmi_out and hdmi_in when finished"
   ]
  },
  {
   "cell_type": "markdown",
   "metadata": {},
   "source": [
    "# RGB Filter Example\n",
    "In this notebook, we will explore the colors that are used to create an image. Although humans are able to see a multitude of colors, our eyes are technically only capable of detecting red, green, and blue. Every other color that we see is a composition of these three primary colors. Black is the absense of any color while white is the combination of all colors.\n",
    "\n",
    "<img src=\"data/AdditiveColor.png\"/>\n",
    "*This diagram shows how colors are added together to create new colors.*\n",
    "\n",
    "This notebook will use a video filter that will allow for the addition and removal of colors from a live video feed. This will help show how colors are formed from the three primary colors: red, green, and blue."
   ]
  },
  {
   "cell_type": "markdown",
   "metadata": {},
   "source": [
    "#### 1. Download base overlay to the board\n",
    "Ensure that the camera is not connected to the board. Run the following script to provide the PYNQ with its base overlay."
   ]
  },
  {
   "cell_type": "code",
   "execution_count": 1,
   "metadata": {
    "collapsed": false
   },
   "outputs": [],
   "source": [
    "from pynq.drivers.video import HDMI\n",
    "from pynq import Bitstream_Part\n",
    "from pynq.board import Register\n",
    "from pynq import Overlay\n",
    "\n",
    "Overlay(\"demo.bit\").download()"
   ]
  },
  {
   "cell_type": "markdown",
   "metadata": {},
   "source": [
    "#### 2. Connect camera\n",
    "Physically connect the camera to the HDMI-in port of the PYNQ. Run the following code to instruct the PYNQ to capture the video from the camera and to begin streaming video to your monitor (connected to the HDMI-out port)."
   ]
  },
  {
   "cell_type": "code",
   "execution_count": 2,
   "metadata": {
    "collapsed": false
   },
   "outputs": [],
   "source": [
    "hdmi_in = HDMI('in')\n",
    "hdmi_out = HDMI('out', frame_list=hdmi_in.frame_list)\n",
    "hdmi_out.mode(2)\n",
    "hdmi_out.start()\n",
    "hdmi_in.start()"
   ]
  },
  {
   "cell_type": "markdown",
   "metadata": {},
   "source": [
    "#### 3. Program board with RGB Filter\n",
    "Run the following script to download the RGB Filter to the PYNQ. This will allow us to modify the colors of the video stream."
   ]
  },
  {
   "cell_type": "code",
   "execution_count": 3,
   "metadata": {
    "collapsed": true
   },
   "outputs": [],
   "source": [
    "Bitstream_Part(\"rgb_p.bit\").download()"
   ]
  },
  {
   "cell_type": "markdown",
   "metadata": {},
   "source": [
    "#### 4. Create a user interface\n",
    "We will communicate with the filter using a nice user interface. Run the following code to activate that interface."
   ]
  },
  {
   "cell_type": "code",
   "execution_count": 4,
   "metadata": {
    "collapsed": false
   },
   "outputs": [],
   "source": [
    "import ipywidgets as widgets\n",
    "from ipywidgets import Button, HBox, VBox, Label\n",
    "\n",
    "words = ['HDMI Reset']\n",
    "items = [Button(description=w) for w in words]\n",
    "\n",
    "\n",
    "def on_hdmi_clicked(b):\n",
    "    hdmi_out.stop()\n",
    "    hdmi_in.stop()\n",
    "    hdmi_out.start()\n",
    "    hdmi_in.start()\n",
    "\n",
    "R0=Register(0)\n",
    "R1=Register(1)\n",
    "R2=Register(2)\n",
    "\n",
    "R0.write(255)\n",
    "R1.write(255)\n",
    "R2.write(255)\n",
    "\n",
    "R0_s = widgets.IntSlider(\n",
    "    value=255,\n",
    "    min=0,\n",
    "    max=255,\n",
    "    step=1,\n",
    "    description='Red:',\n",
    "    disabled=False,\n",
    "    continuous_update=True,\n",
    "    orientation='vertical',\n",
    "    readout=True,\n",
    "    readout_format='i',\n",
    "    slider_color='red'\n",
    ")\n",
    "R1_s = widgets.IntSlider(\n",
    "    value=255,\n",
    "    min=0,\n",
    "    max=255,\n",
    "    step=1,\n",
    "    description='Green:',\n",
    "    disabled=False,\n",
    "    continuous_update=True,\n",
    "    orientation='vertical',\n",
    "    readout=True,\n",
    "    readout_format='i',\n",
    "    slider_color='green'\n",
    ")\n",
    "R2_s = widgets.IntSlider(\n",
    "    value=255,\n",
    "    min=0,\n",
    "    max=255,\n",
    "    step=1,\n",
    "    description='Blue:',\n",
    "    disabled=False,\n",
    "    continuous_update=True,\n",
    "    orientation='vertical',\n",
    "    readout=True,\n",
    "    readout_format='i',\n",
    "    slider_color='blue'\n",
    ")\n",
    "\n",
    "def update_r0(*args):\n",
    "    R0.write(R0_s.value)\n",
    "R0_s.observe(update_r0, 'value')\n",
    "def update_r1(*args):\n",
    "    R1.write(R1_s.value)\n",
    "R1_s.observe(update_r1, 'value')\n",
    "def update_r2(*args):\n",
    "    R2.write(R2_s.value)\n",
    "R2_s.observe(update_r2, 'value')\n",
    "\n",
    "items[0].on_click(on_hdmi_clicked)\n",
    "\n",
    "widgets.HBox([VBox([items[0]]),R0_s,R1_s,R2_s])"
   ]
  },
  {
   "cell_type": "markdown",
   "metadata": {},
   "source": [
    "#### 5. Exploration\n",
    "Feel free to play with the sliders above. As the slider decreases in value, the color associated with that slider will be removed from the video. Likewise, increasing the slider value will add color back into the image.\n",
    "\n",
    "Notice that when all sliders are reduced to 0 that the image is black. Now, increase the red slider. The image should only include various shades of red. Add green into the image. The video should now include shades of red and green, but also yellow! This is because yellow is the combination of red and green."
   ]
  },
  {
   "cell_type": "markdown",
   "metadata": {},
   "source": [
    "#### 6. Clean up\n",
    "When you are done playing with the RGB filter, run the following code to stop the video stream"
   ]
  },
  {
   "cell_type": "code",
   "execution_count": 5,
   "metadata": {
    "collapsed": true
   },
   "outputs": [],
   "source": [
    "hdmi_out.stop()\n",
    "hdmi_in.stop()\n",
    "del hdmi_out\n",
    "del hdmi_in"
   ]
  }
 ],
 "metadata": {
  "kernelspec": {
   "display_name": "Python 3",
   "language": "python",
   "name": "python3"
  },
  "language_info": {
   "codemirror_mode": {
    "name": "ipython",
    "version": 3
   },
   "file_extension": ".py",
   "mimetype": "text/x-python",
   "name": "python",
   "nbconvert_exporter": "python",
   "pygments_lexer": "ipython3",
   "version": "3.4.3+"
  }
 },
 "nbformat": 4,
 "nbformat_minor": 1
}
