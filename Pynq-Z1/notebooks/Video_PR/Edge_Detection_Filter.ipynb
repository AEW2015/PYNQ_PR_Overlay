{
 "cells": [
  {
   "cell_type": "markdown",
   "metadata": {},
   "source": [
    "#### Don't forget to delete the hdmi_out and hdmi_in when finished"
   ]
  },
  {
   "cell_type": "markdown",
   "metadata": {},
   "source": [
    "# Edge Detection Filter Example\n",
    "In this notebook we will demonstrate a hardware accelerated edge detection filter.\n",
    "\n",
    "This filter uses the Sobel operator to estimate the gradients of the image in the X and Y directions. The two gradients are then summed displayed onscreen.\n",
    "\n",
    "For more information on the Sobel operator, [consult Wikipedia](https://en.wikipedia.org/wiki/Sobel_operator)."
   ]
  },
  {
   "cell_type": "markdown",
   "metadata": {},
   "source": [
    "#### 1. Download base overlay to the board\n",
    "Ensure that the camera is not connected to the board. Run the following script to provide the PYNQ with its base overlay."
   ]
  },
  {
   "cell_type": "code",
   "execution_count": 1,
   "metadata": {
    "collapsed": false
   },
   "outputs": [],
   "source": [
    "from pynq.drivers.video import HDMI\n",
    "from pynq import Bitstream_Part\n",
    "from pynq.board import Register\n",
    "from pynq import Overlay\n",
    "\n",
    "Overlay(\"demo.bit\").download()"
   ]
  },
  {
   "cell_type": "markdown",
   "metadata": {},
   "source": [
    "#### 2. Connect camera\n",
    "Physically connect the camera to the HDMI-in port of the PYNQ. Run the following code to instruct the PYNQ to capture the video from the camera and to begin streaming video to your monitor (connected to the HDMI-out port)."
   ]
  },
  {
   "cell_type": "code",
   "execution_count": 2,
   "metadata": {
    "collapsed": false
   },
   "outputs": [],
   "source": [
    "hdmi_in = HDMI('in')\n",
    "hdmi_out = HDMI('out', frame_list=hdmi_in.frame_list)\n",
    "hdmi_out.mode(2)\n",
    "hdmi_out.start()\n",
    "hdmi_in.start()"
   ]
  },
  {
   "cell_type": "markdown",
   "metadata": {},
   "source": [
    "#### 3. Program board with Edge Filter\n",
    "Run the following script to download the Edge Filter to the PYNQ. "
   ]
  },
  {
   "cell_type": "code",
   "execution_count": 3,
   "metadata": {
    "collapsed": false
   },
   "outputs": [],
   "source": [
    "Bitstream_Part(\"sobel_p.bit\").download()"
   ]
  },
  {
   "cell_type": "markdown",
   "metadata": {},
   "source": [
    "#### 4. Create a user interface\n",
    "We will communicate with the filter using a nice user interface. Run the following code to activate that interface."
   ]
  },
  {
   "cell_type": "code",
   "execution_count": 4,
   "metadata": {
    "collapsed": false
   },
   "outputs": [],
   "source": [
    "import ipywidgets as widgets\n",
    "\n",
    "R0 = Register(0)\n",
    "R1 = Register(1)\n",
    "R2 = Register(2)\n",
    "R3 = Register(3)\n",
    "R4 = Register(4)\n",
    "\n",
    "R0.write(128)\n",
    "R1.write(1)\n",
    "R2.write(0)\n",
    "R3.write(hdmi_in.frame_width()//2)\n",
    "R4.write(0)\n",
    "\n",
    "R0_s = widgets.IntSlider(\n",
    "    value=128,\n",
    "    min=0,\n",
    "    max=255,\n",
    "    step=1,\n",
    "    description='Threshold',\n",
    "    disabled=False,\n",
    "    continuous_update=True,\n",
    "    orientation='vertical',\n",
    "    readout=True,\n",
    "    readout_format='i',\n",
    "    slider_color='red',\n",
    "    width='80px'\n",
    ")\n",
    "\n",
    "R1_s = widgets.IntSlider(\n",
    "    value=14,\n",
    "    min=0,\n",
    "    max=15,\n",
    "    step=1,\n",
    "    description='Sensitivity',\n",
    "    disabled=False,\n",
    "    continuous_update=True,\n",
    "    orientation='vertical',\n",
    "    readout=True,\n",
    "    readout_format='i',\n",
    "    slider_color='green',\n",
    "    width='80px'\n",
    ")\n",
    "\n",
    "R2_s = widgets.ToggleButton(\n",
    "    value=False,\n",
    "    description='Invert',\n",
    "    disabled=False,\n",
    "    #button_style='', # 'success', 'info', 'warning', 'danger' or ''\n",
    "    tooltip='Invert',\n",
    "    icon='check',\n",
    "    width='120px'\n",
    ")\n",
    "\n",
    "R3_s = widgets.IntSlider(\n",
    "    value=hdmi_in.frame_width()//2,\n",
    "    min=0,\n",
    "    max=hdmi_in.frame_width(),\n",
    "    step=1,\n",
    "    description='Window',\n",
    "    disabled=False,\n",
    "    continuous_update=True,\n",
    "    orientation='vertical',\n",
    "    readout=True,\n",
    "    readout_format='i',\n",
    "    slider_color='yellow',\n",
    "    width='80px'\n",
    ")\n",
    "\n",
    "R4_s = widgets.ToggleButton(\n",
    "    value=False,\n",
    "    description='Rotoscope',\n",
    "    disabled=False,\n",
    "    #button_style='', # 'success', 'info', 'warning', 'danger' or ''\n",
    "    tooltip='Invert',\n",
    "    icon='check',\n",
    "    width='120px'\n",
    ")\n",
    "\n",
    "def update_r0(*args):\n",
    "    R0.write(R0_s.value)\n",
    "def update_r1(*args):\n",
    "    R1.write(15 - R1_s.value)\n",
    "def update_r2(*args):\n",
    "    R2.write(int(R2_s.value))\n",
    "def update_r3(*args):\n",
    "    R3.write(R3_s.value)\n",
    "def update_r4(*args):\n",
    "    R4.write(int(R4_s.value))\n",
    "\n",
    "R0_s.observe(update_r0, 'value')\n",
    "R1_s.observe(update_r1, 'value')\n",
    "R2_s.observe(update_r2, 'value')\n",
    "R3_s.observe(update_r3, 'value')\n",
    "R4_s.observe(update_r4, 'value')\n",
    "\n",
    "widgets.VBox([ widgets.HBox( [R0_s, R1_s, R3_s]), widgets.HBox([R2_s, R4_s]) ])"
   ]
  },
  {
   "cell_type": "markdown",
   "metadata": {
    "collapsed": false
   },
   "source": [
    "#### 5. Exploration\n",
    "Feel free to play with the sliders and buttons above. For reference, their functions are as follows:\n",
    "\n",
    " * **Threshold** - Determines the lower bound of the video output. The higher the threshold, the less noise gets through.\n",
    " * **Sensitivity** - Adjusts the sensitivity of the filter ().\n",
    " * **Window** - Allows for the screen to be split between the edge filter and the standard output.\n",
    " * **Invert** - Inverts the output of the edge filter.\n",
    " * **Rotoscope** - Superimposes the edges on top of the original image (note that the threshhold will implicitly be 255). Also, the color depth is reduced to give the image a more \"cartoonish\" look.\n",
    "\n",
    "Have fun!"
   ]
  },
  {
   "cell_type": "markdown",
   "metadata": {
    "collapsed": false
   },
   "source": [
    "#### 5. Clean up\n",
    "When you are done playing with the edge filter, run the following code to stop the video stream."
   ]
  },
  {
   "cell_type": "code",
   "execution_count": 5,
   "metadata": {
    "collapsed": false
   },
   "outputs": [],
   "source": [
    "hdmi_out.stop()\n",
    "hdmi_in.stop()\n",
    "del hdmi_out\n",
    "del hdmi_in"
   ]
  }
 ],
 "metadata": {
  "kernelspec": {
   "display_name": "Python 3",
   "language": "python",
   "name": "python3"
  },
  "language_info": {
   "codemirror_mode": {
    "name": "ipython",
    "version": 3
   },
   "file_extension": ".py",
   "mimetype": "text/x-python",
   "name": "python",
   "nbconvert_exporter": "python",
   "pygments_lexer": "ipython3",
   "version": "3.4.3+"
  }
 },
 "nbformat": 4,
 "nbformat_minor": 1
}
