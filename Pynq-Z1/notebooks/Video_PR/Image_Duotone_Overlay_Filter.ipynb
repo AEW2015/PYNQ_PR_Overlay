{
 "cells": [
  {
   "cell_type": "markdown",
   "metadata": {},
   "source": [
    "#### Don't forget to delete the hdmi_out and hdmi_in when finished"
   ]
  },
  {
   "cell_type": "markdown",
   "metadata": {},
   "source": [
    "# Image Overlay Duotone Color Filter Example\n",
    "\n",
    "In this notebook, we will overlay an image on the output videofeed. By default, an image showing Abraham Lincoln will be displayed at the top of the screen.\n",
    "\n",
    "In order to store larger images, just two colors are allowed. These colors can be controlled by registers. Each color can also be replaced with \"transparency\" so that you can see the video feed behind it."
   ]
  },
  {
   "cell_type": "markdown",
   "metadata": {},
   "source": [
    "#### 1. Download base overlay to the board\n",
    "Ensure that the camera is not connected to the board. Run the following script to provide the PYNQ with its base overlay."
   ]
  },
  {
   "cell_type": "code",
   "execution_count": 1,
   "metadata": {
    "collapsed": true
   },
   "outputs": [],
   "source": [
    "from pynq.drivers.video import HDMI\n",
    "from pynq import Bitstream_Part\n",
    "from pynq.board import Register\n",
    "from pynq import Overlay\n",
    "\n",
    "Overlay(\"demo.bit\").download()"
   ]
  },
  {
   "cell_type": "markdown",
   "metadata": {},
   "source": [
    "#### 2. Connect camera\n",
    "Physically connect the camera to the HDMI-in port of the PYNQ. Run the following code to instruct the PYNQ to capture the video from the camera and to begin streaming video to your monitor (connected to the HDMI-out port). The \"2\" represents a resolution of 1280x720, which is the output streaming resolution of the camera."
   ]
  },
  {
   "cell_type": "code",
   "execution_count": 2,
   "metadata": {
    "collapsed": false
   },
   "outputs": [],
   "source": [
    "hdmi_in = HDMI('in')\n",
    "hdmi_out = HDMI('out', frame_list=hdmi_in.frame_list)\n",
    "hdmi_out.mode(2)\n",
    "hdmi_out.start()\n",
    "hdmi_in.start()"
   ]
  },
  {
   "cell_type": "markdown",
   "metadata": {},
   "source": [
    "#### 3. Program board with 2 Color Image Overlay Filter\n",
    "Run the following script to download the RGB Filter to the PYNQ. This will allow us to modify the colors of the video stream."
   ]
  },
  {
   "cell_type": "code",
   "execution_count": 3,
   "metadata": {
    "collapsed": true
   },
   "outputs": [],
   "source": [
    "Bitstream_Part(\"img_overlay_duotone_p.bit\").download()"
   ]
  },
  {
   "cell_type": "markdown",
   "metadata": {},
   "source": [
    "#### 4. Create a user interface\n",
    "We will communicate with the filter using a nice user interface. Run the following code to activate that interface.\n",
    "\n",
    "7 Registers are used to interact with this particular filter.\n",
    "R0 : Origin X-Coordinate. The origin of the image is the top left corner. Writing to R0 allows you to specify where the image appears horizontally on the feed.\n",
    "R1 : Origin Y-Coordinate. Writing to R1 allows you to specify where the image appears vertically on the feed.\n",
    "R2 : Width. This specifies how wide (in pixels) the image is.\n",
    "R3 : Height. This specifies how tall (in pixels) the image is.\n",
    "R4 : This specifies the index of the first color (the background of the overlay image). Because the color is 24 bits (23:0), the 25th bit (bit 24) signifies whether this color should be transparent or not.\n",
    "R5 : This specifies the index of the second color (the foreground of the overlay image). Like with R4, bit 24 signifies whether this color should be transparent or not.\n",
    "R5 : This is used to write a new image to the filter. 8 pixels are written at a time (1 byte = 8 bits = 8 pixels). The 16-bit pixel address and 1-byte representation of 8 pixels are concatenated and written to this register.\n",
    "\n",
    "The current minimum and maximum values for the X- and Y-Coordinates as well as image width and height are based on a 1280x720 screen resolution."
   ]
  },
  {
   "cell_type": "code",
   "execution_count": 7,
   "metadata": {
    "collapsed": false
   },
   "outputs": [
    {
     "data": {
      "text/html": [
       "<style>\n",
       "    .widget-label { min-width: 15ex !important; }\n",
       "</style>"
      ],
      "text/plain": [
       "<IPython.core.display.HTML object>"
      ]
     },
     "metadata": {},
     "output_type": "display_data"
    }
   ],
   "source": [
    "import ipywidgets as widgets\n",
    "\n",
    "from IPython.display import HTML, display\n",
    "\n",
    "display(HTML('''<style>\n",
    "    .widget-label { min-width: 15ex !important; }\n",
    "</style>'''))\n",
    "\n",
    "R0 =Register(0)\n",
    "R1 =Register(1)\n",
    "R2 =Register(2)\n",
    "R3 =Register(3)\n",
    "R4 =Register(4)\n",
    "R5 =Register(5)\n",
    "R6 =Register(6)\n",
    "\n",
    "R0.write(1)\n",
    "R1.write(1)\n",
    "R2.write(400)\n",
    "R3.write(449)\n",
    "R4.write(0xFFFFFF)\n",
    "R5.write(0x000000)\n",
    "\n",
    "R0_s = widgets.IntSlider(\n",
    "    value=1,\n",
    "    min=1,\n",
    "    max=1279,\n",
    "    step=1,\n",
    "    description='X Origin:',\n",
    "    disabled=False,\n",
    "    continuous_update=True,\n",
    "    orientation='horizontal',\n",
    "    readout=True,\n",
    "    readout_format='i',\n",
    "    slider_color='red',\n",
    "    width = '600px'\n",
    ")\n",
    "R1_s = widgets.IntSlider(\n",
    "    value=1,\n",
    "    min=1,\n",
    "    max=719,\n",
    "    step=1,\n",
    "    description='Y Origin:',\n",
    "    disabled=False,\n",
    "    continuous_update=True,\n",
    "    orientation='horizontal',\n",
    "    readout=True,\n",
    "    readout_format='i',\n",
    "    slider_color='green',\n",
    "    width = '600px'\n",
    ")\n",
    "R2_b = widgets.BoundedIntText(\n",
    "    value=200,\n",
    "    min=1,\n",
    "    max=1280,\n",
    "    step=1,\n",
    "    description='Image Width:',\n",
    "    disabled=True\n",
    ")\n",
    "R3_b = widgets.BoundedIntText(\n",
    "    value=200,\n",
    "    min=1,\n",
    "    max=720,\n",
    "    step=1,\n",
    "    description='Image Height:',\n",
    "    disabled=True\n",
    ")\n",
    "R4_b = widgets.ColorPicker(\n",
    "    concise=False,\n",
    "    description='Color 1:',\n",
    "    value='white'\n",
    ")\n",
    "R4_c = widgets.Checkbox(\n",
    "    value=False,\n",
    "    description='Color 1 Clear',\n",
    "    disabled=False\n",
    ")\n",
    "R5_b = widgets.ColorPicker(\n",
    "    concise=False,\n",
    "    description='Color 2:',\n",
    "    value='black'\n",
    ")\n",
    "R5_c = widgets.Checkbox(\n",
    "    value=False,\n",
    "    description='Color 2 Clear',\n",
    "    disabled=False\n",
    ")\n",
    "R6_s = widgets.Select(\n",
    "    options=['Abe Lincoln', 'Emma Watson', 'Giraffe'],\n",
    "     value='Abe Lincoln',\n",
    "    description='Display Image:',\n",
    "    disabled=False,\n",
    ")\n",
    "\n",
    "def update_r0(*args):\n",
    "    R0.write(R0_s.value)\n",
    "R0_s.observe(update_r0, 'value')\n",
    "def update_r1(*args):\n",
    "    R1.write(R1_s.value)\n",
    "R1_s.observe(update_r1, 'value')\n",
    "def update_r2(*args):\n",
    "    R2.write(R2_b.value)\n",
    "R2_b.observe(update_r2, 'value')\n",
    "def update_r3(*args):\n",
    "    R3.write(R3_b.value)\n",
    "R3_b.observe(update_r3, 'value')\n",
    "def update_r4(*args):\n",
    "    if R4_b.value == \"black\":\n",
    "        color1 = 0x000000\n",
    "    elif R4_b.value == \"blue\":\n",
    "        color1 = 0x0000FF\n",
    "    elif R4_b.value == \"brown\":\n",
    "        color1 = 0x996633\n",
    "    elif R4_b.value == \"cyan\":\n",
    "        color1 = 0x00FFFF\n",
    "    elif R4_b.value == \"green\":\n",
    "        color1 = 0x00FF00\n",
    "    elif R4_b.value == \"magenta\":\n",
    "        color1 = 0xFF00FF\n",
    "    elif R4_b.value == \"orange\":\n",
    "        color1 = 0xFF8000\n",
    "    elif R4_b.value == \"purple\":\n",
    "        color1 = 0x800080\n",
    "    elif R4_b.value == \"red\":\n",
    "        color1 = 0xFF0000\n",
    "    elif R4_b.value == \"yellow\":\n",
    "        color1 = 0xFFFF00\n",
    "    elif R4_b.value == \"white\":\n",
    "        color1 = 0xFFFFFF\n",
    "    else:\n",
    "        color1 = int(R4_b.value[1:],16)\n",
    "    if R4_c.value == True:\n",
    "        color1 |= 0x1000000\n",
    "    else:\n",
    "        color1 &= 0xFFFFFF\n",
    "    R4.write(color1)\n",
    "R4_b.observe(update_r4, 'value')\n",
    "R4_c.observe(update_r4, 'value')\n",
    "def update_r5(*args):\n",
    "    if R5_b.value == \"black\":\n",
    "        color2 = 0x000000\n",
    "    elif R5_b.value == \"blue\":\n",
    "        color2 = 0x0000FF\n",
    "    elif R5_b.value == \"brown\":\n",
    "        color2 = 0x996633\n",
    "    elif R5_b.value == \"cyan\":\n",
    "        color2 = 0x00FFFF\n",
    "    elif R5_b.value == \"green\":\n",
    "        color2 = 0x00FF00\n",
    "    elif R5_b.value == \"magenta\":\n",
    "        color2 = 0xFF00FF\n",
    "    elif R5_b.value == \"orange\":\n",
    "        color2 = 0xFF8000\n",
    "    elif R5_b.value == \"purple\":\n",
    "        color2 = 0x800080\n",
    "    elif R5_b.value == \"red\":\n",
    "        color2 = 0xFF0000\n",
    "    elif R5_b.value == \"yellow\":\n",
    "        color2 = 0xFFFF00\n",
    "    elif R5_b.value == \"white\":\n",
    "        color2 = 0xFFFFFF\n",
    "    else:\n",
    "        color2 = int(R5_b.value[1:],16)\n",
    "    if R5_c.value == True:\n",
    "        color2 |= 0x1000000\n",
    "    else:\n",
    "        color2 &= 0xFFFFFF\n",
    "    R5.write(color2)\n",
    "R5_b.observe(update_r5, 'value')\n",
    "R5_c.observe(update_r5, 'value')\n",
    "def update_r6(*args):\n",
    "    filename = \"nofile.bin\"\n",
    "    if R6_s.value == 'Abe Lincoln':\n",
    "        filename = \"./data/lincoln.bin\"\n",
    "    elif R6_s.value == 'Emma Watson':\n",
    "        filename = \"./data/emma_watson.bin\"\n",
    "    elif R6_s.value == 'Giraffe':\n",
    "        filename = \"./data/giraffe.bin\"\n",
    "    with open(filename, \"rb\") as f:\n",
    "        w = f.read(2)\n",
    "        h = f.read(2)\n",
    "        width = (w[1] << 8) | w[0]\n",
    "        height = (h[1] << 8) | h[0]\n",
    "        R2.write(width)\n",
    "        R3.write(height)\n",
    "        num_pixels = (width*height)/8\n",
    "        for i in range(0, int(num_pixels)-1):\n",
    "            byte = f.read(1)\n",
    "            b = int('{:08b}'.format(byte[0])[::-1], 2)\n",
    "            b = byte[0];\n",
    "            x = (i<<8) | b;\n",
    "            R6.write(x);\n",
    "R6_s.observe(update_r6, 'value')\n",
    "widgets.VBox([R0_s,R1_s,R4_b,R4_c,R5_b,R5_c,R6_s])"
   ]
  },
  {
   "cell_type": "markdown",
   "metadata": {},
   "source": [
    "#### 5. Exploration\n",
    "\n",
    "1. Image Position.\n",
    "Try moving the sliders back and forth. Moving the X Origin slider right should move the image to the right. Moving the Y Origin slider right should move the image down.\n",
    "\n",
    "2. Colors. \n",
    "Click on the color box for Color 1 and browse to change the color. You can also enter the hex representation of the color in the text box. You can find the codes here: http://www.rapidtables.com/web/color/RGB_Color.htm. Do the same for Color 2.\n",
    "\n",
    "3. Transparency.\n",
    "Check the Color 1 Clear box. All pixels of the image overlay background should become transparent. Uncheck the box and check the Color 2 Clear box. Now the foreground should become transparent.\n",
    "\n",
    "4. Upload New Image.\n",
    "Try selecting a different image. The new image file should be written to replace the previous image."
   ]
  },
  {
   "cell_type": "markdown",
   "metadata": {},
   "source": [
    "#### 6. Clean up\n",
    "When you are done experimenting with the filter, run the following code to stop the video stream."
   ]
  },
  {
   "cell_type": "code",
   "execution_count": 5,
   "metadata": {
    "collapsed": false
   },
   "outputs": [],
   "source": [
    "hdmi_out.stop()\n",
    "hdmi_in.stop()\n",
    "del hdmi_out\n",
    "del hdmi_in"
   ]
  },
  {
   "cell_type": "code",
   "execution_count": null,
   "metadata": {
    "collapsed": true
   },
   "outputs": [],
   "source": []
  }
 ],
 "metadata": {
  "kernelspec": {
   "display_name": "Python 3",
   "language": "python",
   "name": "python3"
  },
  "language_info": {
   "codemirror_mode": {
    "name": "ipython",
    "version": 3
   },
   "file_extension": ".py",
   "mimetype": "text/x-python",
   "name": "python",
   "nbconvert_exporter": "python",
   "pygments_lexer": "ipython3",
   "version": "3.4.3+"
  }
 },
 "nbformat": 4,
 "nbformat_minor": 1
}
