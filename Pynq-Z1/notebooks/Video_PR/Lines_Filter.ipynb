{
 "cells": [
  {
   "cell_type": "markdown",
   "metadata": {},
   "source": [
    "#### Don't forget to delete the hdmi_out and hdmi_in when finished"
   ]
  },
  {
   "cell_type": "markdown",
   "metadata": {},
   "source": [
    "# Lines Filter Example\n",
    "In this notebook, we will create a box formed of four lines onto our image. The box is created by checking the pixel locations of each pixel on the screen. Each pixel has a location based upon an x-y coordination plane. Each pixel moving from left to right is one more in the x horizontal direction. Each pixel moving from top to bottom is one more in the y vertical direction.  If a pixel location matches the location where we want to draw a line, then instead of drawing the actual pixel value, we replace it with a red, green, blue, or yellow color. \n",
    "\n",
    "For example, let's draw a horizontal blue line that is 6 pixels wide starting at pixel y location 256. So our logic would say that for any pixel with its y value equal to 256, 257, 258, 259, 260, or 261, we are going to make the pixel blue. If we were to do this on the RGB color mixing image from the RGB_Filter, it would look like :\n",
    "\n",
    "<img src=\"data/LineHorizontalColor.png\"/>\n",
    "\n",
    "We could also draw a horizontal red line that is 6 pixels wide sarting at pixel x location 128. Our logic would say that for any pixel with its x value equal to 128, 129, 130, 131, 132, or 133, we are going to make the pixel red. If we were to do this on the RGB color mixing image from the RGB_Filter, it would look like :\n",
    "\n",
    "<img src=\"data/LineVerticalColor.png\"/>\n",
    "\n",
    "This notebook will use a video filter that will draw four lines on the screen using the same general idea described above. These four lines will form a box ontop of the image."
   ]
  },
  {
   "cell_type": "markdown",
   "metadata": {},
   "source": [
    "#### 1. Download base overlay to the board\n",
    "Ensure that the camera is not connected to the board. Run the following script to provide the PYNQ with its base overlay."
   ]
  },
  {
   "cell_type": "code",
   "execution_count": null,
   "metadata": {
    "collapsed": false
   },
   "outputs": [],
   "source": [
    "from pynq.drivers.video import HDMI\n",
    "from pynq import Bitstream_Part\n",
    "from pynq.board import Register\n",
    "from pynq import Overlay\n",
    "\n",
    "Overlay(\"demo.bit\").download()"
   ]
  },
  {
   "cell_type": "markdown",
   "metadata": {},
   "source": [
    "#### 2. Connect camera\n",
    "Physically connect the camera to the HDMI-in port of the PYNQ. Run the following code to instruct the PYNQ to capture the video from the camera and to begin streaming video to your monitor (connected to the HDMI-out port)."
   ]
  },
  {
   "cell_type": "code",
   "execution_count": null,
   "metadata": {
    "collapsed": false
   },
   "outputs": [],
   "source": [
    "hdmi_in = HDMI('in')\n",
    "hdmi_out = HDMI('out', frame_list=hdmi_in.frame_list)\n",
    "hdmi_out.mode(2)\n",
    "hdmi_out.start()\n",
    "hdmi_in.start()"
   ]
  },
  {
   "cell_type": "markdown",
   "metadata": {},
   "source": [
    "#### 3. Program board with Box Filter\n",
    "Run the following script to download the RGB Filter to the PYNQ. This will allow us to modify the colors of the video stream."
   ]
  },
  {
   "cell_type": "code",
   "execution_count": null,
   "metadata": {
    "collapsed": true
   },
   "outputs": [],
   "source": [
    "Bitstream_Part(\"lines_p.bit\").download()"
   ]
  },
  {
   "cell_type": "markdown",
   "metadata": {},
   "source": [
    "#### 4. Create a user interface\n",
    "We will communicate with the filter using a nice user interface. Run the following code to activate that interface."
   ]
  },
  {
   "cell_type": "code",
   "execution_count": null,
   "metadata": {
    "collapsed": false
   },
   "outputs": [],
   "source": [
    "import ipywidgets as widgets\n",
    "from ipywidgets import Button, HBox, VBox, Label\n",
    "\n",
    "words = ['HDMI Reset']\n",
    "items = [Button(description=w) for w in words]\n",
    "\n",
    "\n",
    "def on_hdmi_clicked(b):\n",
    "    hdmi_out.stop()\n",
    "    hdmi_in.stop()\n",
    "    hdmi_out.start()\n",
    "    hdmi_in.start()\n",
    "\n",
    "R0=Register(0)\n",
    "R1=Register(1)\n",
    "R2=Register(2)\n",
    "R3=Register(3)\n",
    "R4=Register(4)\n",
    "\n",
    "R0.write(200)\n",
    "R1.write(1020)\n",
    "R2.write(175)\n",
    "R3.write(620)\n",
    "R4.write(3)\n",
    "\n",
    "R0_s = widgets.IntSlider(\n",
    "    value=200,\n",
    "    min=0,\n",
    "    max=1919,\n",
    "    step=1,\n",
    "    description='X1:',\n",
    "    disabled=False,\n",
    "    continuous_update=True,\n",
    "    orientation='vertical',\n",
    "    readout=True,\n",
    "    readout_format='i',\n",
    "    slider_color='red'\n",
    ")\n",
    "R1_s = widgets.IntSlider(\n",
    "    value=1020,\n",
    "    min=0,\n",
    "    max=1919,\n",
    "    step=1,\n",
    "    description='X2:',\n",
    "    disabled=False,\n",
    "    continuous_update=True,\n",
    "    orientation='vertical',\n",
    "    readout=True,\n",
    "    readout_format='i',\n",
    "    slider_color='green'\n",
    ")\n",
    "R2_s = widgets.IntSlider(\n",
    "    value=175,\n",
    "    min=0,\n",
    "    max=1079,\n",
    "    step=1,\n",
    "    description='Y1:',\n",
    "    disabled=False,\n",
    "    continuous_update=True,\n",
    "    orientation='vertical',\n",
    "    readout=True,\n",
    "    readout_format='i',\n",
    "    slider_color='blue'\n",
    ")\n",
    "R3_s = widgets.IntSlider(\n",
    "    value=620,\n",
    "    min=0,\n",
    "    max=1079,\n",
    "    step=1,\n",
    "    description='Y2:',\n",
    "    disabled=False,\n",
    "    continuous_update=True,\n",
    "    orientation='vertical',\n",
    "    readout=True,\n",
    "    readout_format='i',\n",
    "    slider_color='yellow'\n",
    ")\n",
    "R4_s = widgets.IntSlider(\n",
    "    value=3,\n",
    "    min=0,\n",
    "    max=500,\n",
    "    step=1,\n",
    "    description='Width:',\n",
    "    disabled=False,\n",
    "    continuous_update=True,\n",
    "    orientation='vertical',\n",
    "    readout=True,\n",
    "    readout_format='i',\n",
    "    slider_color='purple'\n",
    ")\n",
    "\n",
    "def update_r0(*args):\n",
    "    R0.write(R0_s.value)\n",
    "R0_s.observe(update_r0, 'value')\n",
    "def update_r1(*args):\n",
    "    R1.write(R1_s.value)\n",
    "R1_s.observe(update_r1, 'value')\n",
    "def update_r2(*args):\n",
    "    R2.write(R2_s.value)\n",
    "R2_s.observe(update_r2, 'value')\n",
    "def update_r3(*args):\n",
    "    R3.write(R3_s.value)\n",
    "R3_s.observe(update_r3, 'value')\n",
    "def update_r4(*args):\n",
    "    R4.write(R4_s.value)\n",
    "R4_s.observe(update_r4, 'value')\n",
    "\n",
    "items[0].on_click(on_hdmi_clicked)\n",
    "\n",
    "widgets.HBox([VBox([items[0]]),R0_s,R1_s,R2_s,R3_s,R4_s])"
   ]
  },
  {
   "cell_type": "markdown",
   "metadata": {},
   "source": [
    "#### 5. Exploration\n",
    "Feel free to play with the sliders above. As you move the sliders up and down, the line on the image will move left and right (for X1 and X2) or up and down (for Y1 and Y2). The slider labeled \"Width\" will increase the width of the lines on the image."
   ]
  },
  {
   "cell_type": "markdown",
   "metadata": {},
   "source": [
    "#### 6. Clean up\n",
    "When you are done playing with the RGB filter, run the following code to stop the video stream"
   ]
  },
  {
   "cell_type": "code",
   "execution_count": null,
   "metadata": {
    "collapsed": true
   },
   "outputs": [],
   "source": [
    "hdmi_out.stop()\n",
    "hdmi_in.stop()\n",
    "del hdmi_out\n",
    "del hdmi_in"
   ]
  }
 ],
 "metadata": {
  "kernelspec": {
   "display_name": "Python 3",
   "language": "python",
   "name": "python3"
  },
  "language_info": {
   "codemirror_mode": {
    "name": "ipython",
    "version": 3
   },
   "file_extension": ".py",
   "mimetype": "text/x-python",
   "name": "python",
   "nbconvert_exporter": "python",
   "pygments_lexer": "ipython3",
   "version": "3.4.3+"
  }
 },
 "nbformat": 4,
 "nbformat_minor": 1
}
