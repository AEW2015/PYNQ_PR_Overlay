{
 "cells": [
  {
   "cell_type": "code",
   "execution_count": 1,
   "metadata": {
    "collapsed": false
   },
   "outputs": [],
   "source": [
    "from pynq.drivers.video import HDMI\n",
    "from pynq import Bitstream_Part\n",
    "from pynq.board import Register\n",
    "from pynq import Overlay\n",
    "#hdmi_in = HDMI('in')\n",
    "#hdmi_out = HDMI('out', frame_list=hdmi_in.frame_list)\n",
    "#hdmi_out.mode(4)\n",
    "#hdmi_out.stop()\n",
    "#hdmi_in.stop()\n",
    "Overlay(\"demo.bit\").download()\n",
    "hdmi_in = HDMI('in')\n",
    "hdmi_in.start()\n",
    "hdmi_out = HDMI('out', frame_list=hdmi_in.frame_list)\n",
    "hdmi_out.mode(4)#2 is for camera\n",
    "hdmi_out.start()\n"
   ]
  },
  {
   "cell_type": "code",
   "execution_count": 2,
   "metadata": {
    "collapsed": true
   },
   "outputs": [],
   "source": [
    "R0 =Register(0)\n",
    "R1 =Register(1)\n",
    "R2 =Register(2)\n",
    "R3 =Register(3)\n",
    "import ipywidgets as widgets\n",
    "\n",
    "\n",
    "R0_s = widgets.IntSlider(\n",
    "    value=255,\n",
    "    min=0,\n",
    "    max=255,\n",
    "    step=1,\n",
    "    description='R0:',\n",
    "    disabled=False,\n",
    "    continuous_update=True,\n",
    "    orientation='vertical',\n",
    "    readout=True,\n",
    "    readout_format='i',\n",
    "    slider_color='red'\n",
    ")\n",
    "R1_s = widgets.IntSlider(\n",
    "    value=255,\n",
    "    min=0,\n",
    "    max=255,\n",
    "    step=1,\n",
    "    description='R1:',\n",
    "    disabled=False,\n",
    "    continuous_update=True,\n",
    "    orientation='vertical',\n",
    "    readout=True,\n",
    "    readout_format='i',\n",
    "    slider_color='green'\n",
    ")\n",
    "R2_s = widgets.IntSlider(\n",
    "    value=255,\n",
    "    min=0,\n",
    "    max=255,\n",
    "    step=1,\n",
    "    description='R2:',\n",
    "    disabled=False,\n",
    "    continuous_update=True,\n",
    "    orientation='vertical',\n",
    "    readout=True,\n",
    "    readout_format='i',\n",
    "    slider_color='blue'\n",
    ")\n",
    "R3_s = widgets.IntSlider(\n",
    "    value=255,\n",
    "    min=0,\n",
    "    max=255,\n",
    "    step=1,\n",
    "    description='R3:',\n",
    "    disabled=False,\n",
    "    continuous_update=True,\n",
    "    orientation='vertical',\n",
    "    readout=True,\n",
    "    readout_format='i',\n",
    "    slider_color='yellow'\n",
    ")\n",
    "\n",
    "def update_r0(*args):\n",
    "    R0.write(R0_s.value)\n",
    "R0_s.observe(update_r0, 'value')\n",
    "def update_r1(*args):\n",
    "    R1.write(R1_s.value)\n",
    "R1_s.observe(update_r1, 'value')\n",
    "def update_r2(*args):\n",
    "    R2.write(R2_s.value)\n",
    "R2_s.observe(update_r2, 'value')\n",
    "def update_r3(*args):\n",
    "    R3.write(R3_s.value)\n",
    "R3_s.observe(update_r3, 'value')"
   ]
  },
  {
   "cell_type": "code",
   "execution_count": 3,
   "metadata": {
    "collapsed": false
   },
   "outputs": [],
   "source": [
    "from IPython.display import clear_output\n",
    "from ipywidgets import Button, HBox, VBox\n",
    "\n",
    "words = ['HDMI Reset','Pass', 'RGB','Box', 'Invert', 'Gscale']\n",
    "items = [Button(description=w) for w in words]\n",
    "\n",
    "\n",
    "def on_hdmi_clicked(b):\n",
    "    hdmi_out.stop()\n",
    "    hdmi_in.stop()\n",
    "    hdmi_out.start()\n",
    "    hdmi_in.start()\n",
    "def on_pass_clicked(b):\n",
    "    Bitstream_Part(\"pass_p.bit\").download()\n",
    "def on_rgb_clicked(b):\n",
    "    Bitstream_Part(\"rgb_p.bit\").download()\n",
    "    R0.write(255)\n",
    "    R1.write(255)\n",
    "    R2.write(255)\n",
    "    R0_s.value = 255\n",
    "    R0_s.max = 255\n",
    "    R0_s.description='Red:'\n",
    "    R1_s.value = 255\n",
    "    R1_s.max = 255\n",
    "    R1_s.description='Green:'\n",
    "    R2_s.value = 255\n",
    "    R2_s.max = 255\n",
    "    R2_s.description='Blue:'\n",
    "    R3_s.disabled = True\n",
    "    R3_s.description='Disabled'\n",
    "def on_box_clicked(b):\n",
    "    Bitstream_Part(\"box_p.bit\").download()\n",
    "    R0.write(250)\n",
    "    R1.write(1750)\n",
    "    R2.write(250)\n",
    "    R3.write(880)\n",
    "    R0_s.max = 1919\n",
    "    R0_s.value = 250\n",
    "    R0_s.description='X1:'\n",
    "    R1_s.max = 1919\n",
    "    R1_s.value = 1750\n",
    "    R1_s.description='X2:'\n",
    "    R2_s.max = 1079\n",
    "    R2_s.value = 250\n",
    "    R2_s.description='Y1:'\n",
    "    R3_s.disabled = False\n",
    "    R3_s.max = 1079\n",
    "    R3_s.value = 880\n",
    "    R3_s.description='Y2:'\n",
    "def on_Invert_clicked(b):\n",
    "    Bitstream_Part(\"invert_p.bit\").download()\n",
    "def on_Gscale_clicked(b):\n",
    "    Bitstream_Part(\"gscale_p.bit\").download()\n",
    "    clear_output()\n",
    "\n",
    "items[0].on_click(on_hdmi_clicked)\n",
    "items[1].on_click(on_pass_clicked)\n",
    "items[2].on_click(on_rgb_clicked)\n",
    "items[3].on_click(on_box_clicked)\n",
    "items[4].on_click(on_Invert_clicked)\n",
    "items[5].on_click(on_Gscale_clicked)\n"
   ]
  },
  {
   "cell_type": "code",
   "execution_count": 4,
   "metadata": {
    "collapsed": false
   },
   "outputs": [],
   "source": [
    "HBox([VBox([items[0], items[1],items[2], items[3],items[4],items[5]]),R0_s,R1_s,R2_s,R3_s])"
   ]
  }
 ],
 "metadata": {
  "kernelspec": {
   "display_name": "Python 3",
   "language": "python",
   "name": "python3"
  },
  "language_info": {
   "codemirror_mode": {
    "name": "ipython",
    "version": 3
   },
   "file_extension": ".py",
   "mimetype": "text/x-python",
   "name": "python",
   "nbconvert_exporter": "python",
   "pygments_lexer": "ipython3",
   "version": "3.4.3+"
  },
  "widgets": {
   "state": {
    "0fc0bff2025249c390dfe270e7840529": {
     "views": [
      {
       "cell_index": 3
      }
     ]
    }
   },
   "version": "1.2.0"
  }
 },
 "nbformat": 4,
 "nbformat_minor": 1
}
